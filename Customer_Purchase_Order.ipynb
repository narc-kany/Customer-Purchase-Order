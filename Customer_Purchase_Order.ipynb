{
  "nbformat": 4,
  "nbformat_minor": 0,
  "metadata": {
    "colab": {
      "provenance": [],
      "gpuType": "A100"
    },
    "kernelspec": {
      "name": "python3",
      "display_name": "Python 3"
    },
    "language_info": {
      "name": "python"
    },
    "accelerator": "GPU",
    "widgets": {
      "application/vnd.jupyter.widget-state+json": {
        "1009094852d24154a7ad75711dd5d220": {
          "model_module": "@jupyter-widgets/controls",
          "model_name": "HBoxModel",
          "model_module_version": "1.5.0",
          "state": {
            "_dom_classes": [],
            "_model_module": "@jupyter-widgets/controls",
            "_model_module_version": "1.5.0",
            "_model_name": "HBoxModel",
            "_view_count": null,
            "_view_module": "@jupyter-widgets/controls",
            "_view_module_version": "1.5.0",
            "_view_name": "HBoxView",
            "box_style": "",
            "children": [
              "IPY_MODEL_3c6af28f550c4d9d9ae7a6b6e92f871e",
              "IPY_MODEL_38d4cea327dc497eb55869f3f3b5c42e",
              "IPY_MODEL_7a5ece8ceadb4c1298b8eee8095f1902"
            ],
            "layout": "IPY_MODEL_bb8b0aa0edc543ec969358d253778af4"
          }
        },
        "3c6af28f550c4d9d9ae7a6b6e92f871e": {
          "model_module": "@jupyter-widgets/controls",
          "model_name": "HTMLModel",
          "model_module_version": "1.5.0",
          "state": {
            "_dom_classes": [],
            "_model_module": "@jupyter-widgets/controls",
            "_model_module_version": "1.5.0",
            "_model_name": "HTMLModel",
            "_view_count": null,
            "_view_module": "@jupyter-widgets/controls",
            "_view_module_version": "1.5.0",
            "_view_name": "HTMLView",
            "description": "",
            "description_tooltip": null,
            "layout": "IPY_MODEL_9ceb3dbdaad04fdba2f99a1ac32da4b8",
            "placeholder": "​",
            "style": "IPY_MODEL_b30f4bc8140b4ca0872bcca0ed8f9f53",
            "value": "Best trial: 12. Best value: 9.60229: 100%"
          }
        },
        "38d4cea327dc497eb55869f3f3b5c42e": {
          "model_module": "@jupyter-widgets/controls",
          "model_name": "FloatProgressModel",
          "model_module_version": "1.5.0",
          "state": {
            "_dom_classes": [],
            "_model_module": "@jupyter-widgets/controls",
            "_model_module_version": "1.5.0",
            "_model_name": "FloatProgressModel",
            "_view_count": null,
            "_view_module": "@jupyter-widgets/controls",
            "_view_module_version": "1.5.0",
            "_view_name": "ProgressView",
            "bar_style": "success",
            "description": "",
            "description_tooltip": null,
            "layout": "IPY_MODEL_d11cb8fbacda4c79b6a323f397399e27",
            "max": 40,
            "min": 0,
            "orientation": "horizontal",
            "style": "IPY_MODEL_45e6857bbc0149af8f6bb5b085af4102",
            "value": 40
          }
        },
        "7a5ece8ceadb4c1298b8eee8095f1902": {
          "model_module": "@jupyter-widgets/controls",
          "model_name": "HTMLModel",
          "model_module_version": "1.5.0",
          "state": {
            "_dom_classes": [],
            "_model_module": "@jupyter-widgets/controls",
            "_model_module_version": "1.5.0",
            "_model_name": "HTMLModel",
            "_view_count": null,
            "_view_module": "@jupyter-widgets/controls",
            "_view_module_version": "1.5.0",
            "_view_name": "HTMLView",
            "description": "",
            "description_tooltip": null,
            "layout": "IPY_MODEL_5211d3c0cdf241608632b3fd21fde3f6",
            "placeholder": "​",
            "style": "IPY_MODEL_458bb5c94ef94d89aed8a1543a8fa596",
            "value": " 40/40 [17:51&lt;00:00, 22.61s/it]"
          }
        },
        "bb8b0aa0edc543ec969358d253778af4": {
          "model_module": "@jupyter-widgets/base",
          "model_name": "LayoutModel",
          "model_module_version": "1.2.0",
          "state": {
            "_model_module": "@jupyter-widgets/base",
            "_model_module_version": "1.2.0",
            "_model_name": "LayoutModel",
            "_view_count": null,
            "_view_module": "@jupyter-widgets/base",
            "_view_module_version": "1.2.0",
            "_view_name": "LayoutView",
            "align_content": null,
            "align_items": null,
            "align_self": null,
            "border": null,
            "bottom": null,
            "display": null,
            "flex": null,
            "flex_flow": null,
            "grid_area": null,
            "grid_auto_columns": null,
            "grid_auto_flow": null,
            "grid_auto_rows": null,
            "grid_column": null,
            "grid_gap": null,
            "grid_row": null,
            "grid_template_areas": null,
            "grid_template_columns": null,
            "grid_template_rows": null,
            "height": null,
            "justify_content": null,
            "justify_items": null,
            "left": null,
            "margin": null,
            "max_height": null,
            "max_width": null,
            "min_height": null,
            "min_width": null,
            "object_fit": null,
            "object_position": null,
            "order": null,
            "overflow": null,
            "overflow_x": null,
            "overflow_y": null,
            "padding": null,
            "right": null,
            "top": null,
            "visibility": null,
            "width": null
          }
        },
        "9ceb3dbdaad04fdba2f99a1ac32da4b8": {
          "model_module": "@jupyter-widgets/base",
          "model_name": "LayoutModel",
          "model_module_version": "1.2.0",
          "state": {
            "_model_module": "@jupyter-widgets/base",
            "_model_module_version": "1.2.0",
            "_model_name": "LayoutModel",
            "_view_count": null,
            "_view_module": "@jupyter-widgets/base",
            "_view_module_version": "1.2.0",
            "_view_name": "LayoutView",
            "align_content": null,
            "align_items": null,
            "align_self": null,
            "border": null,
            "bottom": null,
            "display": null,
            "flex": null,
            "flex_flow": null,
            "grid_area": null,
            "grid_auto_columns": null,
            "grid_auto_flow": null,
            "grid_auto_rows": null,
            "grid_column": null,
            "grid_gap": null,
            "grid_row": null,
            "grid_template_areas": null,
            "grid_template_columns": null,
            "grid_template_rows": null,
            "height": null,
            "justify_content": null,
            "justify_items": null,
            "left": null,
            "margin": null,
            "max_height": null,
            "max_width": null,
            "min_height": null,
            "min_width": null,
            "object_fit": null,
            "object_position": null,
            "order": null,
            "overflow": null,
            "overflow_x": null,
            "overflow_y": null,
            "padding": null,
            "right": null,
            "top": null,
            "visibility": null,
            "width": null
          }
        },
        "b30f4bc8140b4ca0872bcca0ed8f9f53": {
          "model_module": "@jupyter-widgets/controls",
          "model_name": "DescriptionStyleModel",
          "model_module_version": "1.5.0",
          "state": {
            "_model_module": "@jupyter-widgets/controls",
            "_model_module_version": "1.5.0",
            "_model_name": "DescriptionStyleModel",
            "_view_count": null,
            "_view_module": "@jupyter-widgets/base",
            "_view_module_version": "1.2.0",
            "_view_name": "StyleView",
            "description_width": ""
          }
        },
        "d11cb8fbacda4c79b6a323f397399e27": {
          "model_module": "@jupyter-widgets/base",
          "model_name": "LayoutModel",
          "model_module_version": "1.2.0",
          "state": {
            "_model_module": "@jupyter-widgets/base",
            "_model_module_version": "1.2.0",
            "_model_name": "LayoutModel",
            "_view_count": null,
            "_view_module": "@jupyter-widgets/base",
            "_view_module_version": "1.2.0",
            "_view_name": "LayoutView",
            "align_content": null,
            "align_items": null,
            "align_self": null,
            "border": null,
            "bottom": null,
            "display": null,
            "flex": null,
            "flex_flow": null,
            "grid_area": null,
            "grid_auto_columns": null,
            "grid_auto_flow": null,
            "grid_auto_rows": null,
            "grid_column": null,
            "grid_gap": null,
            "grid_row": null,
            "grid_template_areas": null,
            "grid_template_columns": null,
            "grid_template_rows": null,
            "height": null,
            "justify_content": null,
            "justify_items": null,
            "left": null,
            "margin": null,
            "max_height": null,
            "max_width": null,
            "min_height": null,
            "min_width": null,
            "object_fit": null,
            "object_position": null,
            "order": null,
            "overflow": null,
            "overflow_x": null,
            "overflow_y": null,
            "padding": null,
            "right": null,
            "top": null,
            "visibility": null,
            "width": null
          }
        },
        "45e6857bbc0149af8f6bb5b085af4102": {
          "model_module": "@jupyter-widgets/controls",
          "model_name": "ProgressStyleModel",
          "model_module_version": "1.5.0",
          "state": {
            "_model_module": "@jupyter-widgets/controls",
            "_model_module_version": "1.5.0",
            "_model_name": "ProgressStyleModel",
            "_view_count": null,
            "_view_module": "@jupyter-widgets/base",
            "_view_module_version": "1.2.0",
            "_view_name": "StyleView",
            "bar_color": null,
            "description_width": ""
          }
        },
        "5211d3c0cdf241608632b3fd21fde3f6": {
          "model_module": "@jupyter-widgets/base",
          "model_name": "LayoutModel",
          "model_module_version": "1.2.0",
          "state": {
            "_model_module": "@jupyter-widgets/base",
            "_model_module_version": "1.2.0",
            "_model_name": "LayoutModel",
            "_view_count": null,
            "_view_module": "@jupyter-widgets/base",
            "_view_module_version": "1.2.0",
            "_view_name": "LayoutView",
            "align_content": null,
            "align_items": null,
            "align_self": null,
            "border": null,
            "bottom": null,
            "display": null,
            "flex": null,
            "flex_flow": null,
            "grid_area": null,
            "grid_auto_columns": null,
            "grid_auto_flow": null,
            "grid_auto_rows": null,
            "grid_column": null,
            "grid_gap": null,
            "grid_row": null,
            "grid_template_areas": null,
            "grid_template_columns": null,
            "grid_template_rows": null,
            "height": null,
            "justify_content": null,
            "justify_items": null,
            "left": null,
            "margin": null,
            "max_height": null,
            "max_width": null,
            "min_height": null,
            "min_width": null,
            "object_fit": null,
            "object_position": null,
            "order": null,
            "overflow": null,
            "overflow_x": null,
            "overflow_y": null,
            "padding": null,
            "right": null,
            "top": null,
            "visibility": null,
            "width": null
          }
        },
        "458bb5c94ef94d89aed8a1543a8fa596": {
          "model_module": "@jupyter-widgets/controls",
          "model_name": "DescriptionStyleModel",
          "model_module_version": "1.5.0",
          "state": {
            "_model_module": "@jupyter-widgets/controls",
            "_model_module_version": "1.5.0",
            "_model_name": "DescriptionStyleModel",
            "_view_count": null,
            "_view_module": "@jupyter-widgets/base",
            "_view_module_version": "1.2.0",
            "_view_name": "StyleView",
            "description_width": ""
          }
        }
      }
    }
  },
  "cells": [
    {
      "cell_type": "code",
      "source": [
        "!pip install optuna"
      ],
      "metadata": {
        "colab": {
          "base_uri": "https://localhost:8080/",
          "height": 0
        },
        "id": "Rut4t2jKhHdC",
        "outputId": "7d108863-5533-4d37-b00b-e518cf6ce290"
      },
      "execution_count": 50,
      "outputs": [
        {
          "output_type": "stream",
          "name": "stdout",
          "text": [
            "Collecting optuna\n",
            "  Downloading optuna-4.5.0-py3-none-any.whl.metadata (17 kB)\n",
            "Requirement already satisfied: alembic>=1.5.0 in /usr/local/lib/python3.12/dist-packages (from optuna) (1.16.5)\n",
            "Collecting colorlog (from optuna)\n",
            "  Downloading colorlog-6.9.0-py3-none-any.whl.metadata (10 kB)\n",
            "Requirement already satisfied: numpy in /usr/local/lib/python3.12/dist-packages (from optuna) (2.0.2)\n",
            "Requirement already satisfied: packaging>=20.0 in /usr/local/lib/python3.12/dist-packages (from optuna) (25.0)\n",
            "Requirement already satisfied: sqlalchemy>=1.4.2 in /usr/local/lib/python3.12/dist-packages (from optuna) (2.0.43)\n",
            "Requirement already satisfied: tqdm in /usr/local/lib/python3.12/dist-packages (from optuna) (4.67.1)\n",
            "Requirement already satisfied: PyYAML in /usr/local/lib/python3.12/dist-packages (from optuna) (6.0.2)\n",
            "Requirement already satisfied: Mako in /usr/local/lib/python3.12/dist-packages (from alembic>=1.5.0->optuna) (1.3.10)\n",
            "Requirement already satisfied: typing-extensions>=4.12 in /usr/local/lib/python3.12/dist-packages (from alembic>=1.5.0->optuna) (4.15.0)\n",
            "Requirement already satisfied: greenlet>=1 in /usr/local/lib/python3.12/dist-packages (from sqlalchemy>=1.4.2->optuna) (3.2.4)\n",
            "Requirement already satisfied: MarkupSafe>=0.9.2 in /usr/local/lib/python3.12/dist-packages (from Mako->alembic>=1.5.0->optuna) (3.0.2)\n",
            "Downloading optuna-4.5.0-py3-none-any.whl (400 kB)\n",
            "\u001b[?25l   \u001b[90m━━━━━━━━━━━━━━━━━━━━━━━━━━━━━━━━━━━━━━━━\u001b[0m \u001b[32m0.0/400.9 kB\u001b[0m \u001b[31m?\u001b[0m eta \u001b[36m-:--:--\u001b[0m\r\u001b[2K   \u001b[90m━━━━━━━━━━━━━━━━━━━━━━━━━━━━━━━━━━━━━━━━\u001b[0m \u001b[32m400.9/400.9 kB\u001b[0m \u001b[31m24.9 MB/s\u001b[0m eta \u001b[36m0:00:00\u001b[0m\n",
            "\u001b[?25hDownloading colorlog-6.9.0-py3-none-any.whl (11 kB)\n",
            "Installing collected packages: colorlog, optuna\n",
            "Successfully installed colorlog-6.9.0 optuna-4.5.0\n"
          ]
        }
      ]
    },
    {
      "cell_type": "code",
      "source": [
        "!pip install category_encoders"
      ],
      "metadata": {
        "colab": {
          "base_uri": "https://localhost:8080/",
          "height": 0
        },
        "id": "H5ArTi78hSYC",
        "outputId": "ab9fba5c-ab5e-4300-d457-205d0072bb5d"
      },
      "execution_count": 53,
      "outputs": [
        {
          "output_type": "stream",
          "name": "stdout",
          "text": [
            "Collecting category_encoders\n",
            "  Downloading category_encoders-2.8.1-py3-none-any.whl.metadata (7.9 kB)\n",
            "Requirement already satisfied: numpy>=1.14.0 in /usr/local/lib/python3.12/dist-packages (from category_encoders) (2.0.2)\n",
            "Requirement already satisfied: pandas>=1.0.5 in /usr/local/lib/python3.12/dist-packages (from category_encoders) (2.2.2)\n",
            "Requirement already satisfied: patsy>=0.5.1 in /usr/local/lib/python3.12/dist-packages (from category_encoders) (1.0.1)\n",
            "Requirement already satisfied: scikit-learn>=1.6.0 in /usr/local/lib/python3.12/dist-packages (from category_encoders) (1.6.1)\n",
            "Requirement already satisfied: scipy>=1.0.0 in /usr/local/lib/python3.12/dist-packages (from category_encoders) (1.16.2)\n",
            "Requirement already satisfied: statsmodels>=0.9.0 in /usr/local/lib/python3.12/dist-packages (from category_encoders) (0.14.5)\n",
            "Requirement already satisfied: python-dateutil>=2.8.2 in /usr/local/lib/python3.12/dist-packages (from pandas>=1.0.5->category_encoders) (2.9.0.post0)\n",
            "Requirement already satisfied: pytz>=2020.1 in /usr/local/lib/python3.12/dist-packages (from pandas>=1.0.5->category_encoders) (2025.2)\n",
            "Requirement already satisfied: tzdata>=2022.7 in /usr/local/lib/python3.12/dist-packages (from pandas>=1.0.5->category_encoders) (2025.2)\n",
            "Requirement already satisfied: joblib>=1.2.0 in /usr/local/lib/python3.12/dist-packages (from scikit-learn>=1.6.0->category_encoders) (1.5.2)\n",
            "Requirement already satisfied: threadpoolctl>=3.1.0 in /usr/local/lib/python3.12/dist-packages (from scikit-learn>=1.6.0->category_encoders) (3.6.0)\n",
            "Requirement already satisfied: packaging>=21.3 in /usr/local/lib/python3.12/dist-packages (from statsmodels>=0.9.0->category_encoders) (25.0)\n",
            "Requirement already satisfied: six>=1.5 in /usr/local/lib/python3.12/dist-packages (from python-dateutil>=2.8.2->pandas>=1.0.5->category_encoders) (1.17.0)\n",
            "Downloading category_encoders-2.8.1-py3-none-any.whl (85 kB)\n",
            "\u001b[?25l   \u001b[90m━━━━━━━━━━━━━━━━━━━━━━━━━━━━━━━━━━━━━━━━\u001b[0m \u001b[32m0.0/85.7 kB\u001b[0m \u001b[31m?\u001b[0m eta \u001b[36m-:--:--\u001b[0m\r\u001b[2K   \u001b[90m━━━━━━━━━━━━━━━━━━━━━━━━━━━━━━━━━━━━━━━━\u001b[0m \u001b[32m85.7/85.7 kB\u001b[0m \u001b[31m6.2 MB/s\u001b[0m eta \u001b[36m0:00:00\u001b[0m\n",
            "\u001b[?25hInstalling collected packages: category_encoders\n",
            "Successfully installed category_encoders-2.8.1\n"
          ]
        }
      ]
    },
    {
      "cell_type": "code",
      "source": [
        "!pip install catboost"
      ],
      "metadata": {
        "colab": {
          "base_uri": "https://localhost:8080/",
          "height": 0
        },
        "id": "fftlnkl5hUFX",
        "outputId": "e786eb82-6875-465f-8fd4-a34a12654089"
      },
      "execution_count": 55,
      "outputs": [
        {
          "output_type": "stream",
          "name": "stdout",
          "text": [
            "Collecting catboost\n",
            "  Downloading catboost-1.2.8-cp312-cp312-manylinux2014_x86_64.whl.metadata (1.2 kB)\n",
            "Requirement already satisfied: graphviz in /usr/local/lib/python3.12/dist-packages (from catboost) (0.21)\n",
            "Requirement already satisfied: matplotlib in /usr/local/lib/python3.12/dist-packages (from catboost) (3.10.0)\n",
            "Requirement already satisfied: numpy<3.0,>=1.16.0 in /usr/local/lib/python3.12/dist-packages (from catboost) (2.0.2)\n",
            "Requirement already satisfied: pandas>=0.24 in /usr/local/lib/python3.12/dist-packages (from catboost) (2.2.2)\n",
            "Requirement already satisfied: scipy in /usr/local/lib/python3.12/dist-packages (from catboost) (1.16.2)\n",
            "Requirement already satisfied: plotly in /usr/local/lib/python3.12/dist-packages (from catboost) (5.24.1)\n",
            "Requirement already satisfied: six in /usr/local/lib/python3.12/dist-packages (from catboost) (1.17.0)\n",
            "Requirement already satisfied: python-dateutil>=2.8.2 in /usr/local/lib/python3.12/dist-packages (from pandas>=0.24->catboost) (2.9.0.post0)\n",
            "Requirement already satisfied: pytz>=2020.1 in /usr/local/lib/python3.12/dist-packages (from pandas>=0.24->catboost) (2025.2)\n",
            "Requirement already satisfied: tzdata>=2022.7 in /usr/local/lib/python3.12/dist-packages (from pandas>=0.24->catboost) (2025.2)\n",
            "Requirement already satisfied: contourpy>=1.0.1 in /usr/local/lib/python3.12/dist-packages (from matplotlib->catboost) (1.3.3)\n",
            "Requirement already satisfied: cycler>=0.10 in /usr/local/lib/python3.12/dist-packages (from matplotlib->catboost) (0.12.1)\n",
            "Requirement already satisfied: fonttools>=4.22.0 in /usr/local/lib/python3.12/dist-packages (from matplotlib->catboost) (4.60.0)\n",
            "Requirement already satisfied: kiwisolver>=1.3.1 in /usr/local/lib/python3.12/dist-packages (from matplotlib->catboost) (1.4.9)\n",
            "Requirement already satisfied: packaging>=20.0 in /usr/local/lib/python3.12/dist-packages (from matplotlib->catboost) (25.0)\n",
            "Requirement already satisfied: pillow>=8 in /usr/local/lib/python3.12/dist-packages (from matplotlib->catboost) (11.3.0)\n",
            "Requirement already satisfied: pyparsing>=2.3.1 in /usr/local/lib/python3.12/dist-packages (from matplotlib->catboost) (3.2.4)\n",
            "Requirement already satisfied: tenacity>=6.2.0 in /usr/local/lib/python3.12/dist-packages (from plotly->catboost) (8.5.0)\n",
            "Downloading catboost-1.2.8-cp312-cp312-manylinux2014_x86_64.whl (99.2 MB)\n",
            "\u001b[2K   \u001b[90m━━━━━━━━━━━━━━━━━━━━━━━━━━━━━━━━━━━━━━━━\u001b[0m \u001b[32m99.2/99.2 MB\u001b[0m \u001b[31m15.9 MB/s\u001b[0m eta \u001b[36m0:00:00\u001b[0m\n",
            "\u001b[?25hInstalling collected packages: catboost\n",
            "Successfully installed catboost-1.2.8\n"
          ]
        }
      ]
    },
    {
      "cell_type": "code",
      "source": [
        "!pip install lifelines"
      ],
      "metadata": {
        "colab": {
          "base_uri": "https://localhost:8080/",
          "height": 0
        },
        "id": "Pm0EktSIhfHj",
        "outputId": "09261f2b-240a-42d2-ff52-92ceef8c2f3b"
      },
      "execution_count": 56,
      "outputs": [
        {
          "output_type": "stream",
          "name": "stdout",
          "text": [
            "Collecting lifelines\n",
            "  Downloading lifelines-0.30.0-py3-none-any.whl.metadata (3.2 kB)\n",
            "Requirement already satisfied: numpy>=1.14.0 in /usr/local/lib/python3.12/dist-packages (from lifelines) (2.0.2)\n",
            "Requirement already satisfied: scipy>=1.7.0 in /usr/local/lib/python3.12/dist-packages (from lifelines) (1.16.2)\n",
            "Requirement already satisfied: pandas>=2.1 in /usr/local/lib/python3.12/dist-packages (from lifelines) (2.2.2)\n",
            "Requirement already satisfied: matplotlib>=3.0 in /usr/local/lib/python3.12/dist-packages (from lifelines) (3.10.0)\n",
            "Requirement already satisfied: autograd>=1.5 in /usr/local/lib/python3.12/dist-packages (from lifelines) (1.8.0)\n",
            "Collecting autograd-gamma>=0.3 (from lifelines)\n",
            "  Downloading autograd-gamma-0.5.0.tar.gz (4.0 kB)\n",
            "  Preparing metadata (setup.py) ... \u001b[?25l\u001b[?25hdone\n",
            "Collecting formulaic>=0.2.2 (from lifelines)\n",
            "  Downloading formulaic-1.2.1-py3-none-any.whl.metadata (7.0 kB)\n",
            "Collecting interface-meta>=1.2.0 (from formulaic>=0.2.2->lifelines)\n",
            "  Downloading interface_meta-1.3.0-py3-none-any.whl.metadata (6.7 kB)\n",
            "Requirement already satisfied: narwhals>=1.17 in /usr/local/lib/python3.12/dist-packages (from formulaic>=0.2.2->lifelines) (2.5.0)\n",
            "Requirement already satisfied: typing-extensions>=4.2.0 in /usr/local/lib/python3.12/dist-packages (from formulaic>=0.2.2->lifelines) (4.15.0)\n",
            "Requirement already satisfied: wrapt>=1.0 in /usr/local/lib/python3.12/dist-packages (from formulaic>=0.2.2->lifelines) (1.17.3)\n",
            "Requirement already satisfied: contourpy>=1.0.1 in /usr/local/lib/python3.12/dist-packages (from matplotlib>=3.0->lifelines) (1.3.3)\n",
            "Requirement already satisfied: cycler>=0.10 in /usr/local/lib/python3.12/dist-packages (from matplotlib>=3.0->lifelines) (0.12.1)\n",
            "Requirement already satisfied: fonttools>=4.22.0 in /usr/local/lib/python3.12/dist-packages (from matplotlib>=3.0->lifelines) (4.60.0)\n",
            "Requirement already satisfied: kiwisolver>=1.3.1 in /usr/local/lib/python3.12/dist-packages (from matplotlib>=3.0->lifelines) (1.4.9)\n",
            "Requirement already satisfied: packaging>=20.0 in /usr/local/lib/python3.12/dist-packages (from matplotlib>=3.0->lifelines) (25.0)\n",
            "Requirement already satisfied: pillow>=8 in /usr/local/lib/python3.12/dist-packages (from matplotlib>=3.0->lifelines) (11.3.0)\n",
            "Requirement already satisfied: pyparsing>=2.3.1 in /usr/local/lib/python3.12/dist-packages (from matplotlib>=3.0->lifelines) (3.2.4)\n",
            "Requirement already satisfied: python-dateutil>=2.7 in /usr/local/lib/python3.12/dist-packages (from matplotlib>=3.0->lifelines) (2.9.0.post0)\n",
            "Requirement already satisfied: pytz>=2020.1 in /usr/local/lib/python3.12/dist-packages (from pandas>=2.1->lifelines) (2025.2)\n",
            "Requirement already satisfied: tzdata>=2022.7 in /usr/local/lib/python3.12/dist-packages (from pandas>=2.1->lifelines) (2025.2)\n",
            "Requirement already satisfied: six>=1.5 in /usr/local/lib/python3.12/dist-packages (from python-dateutil>=2.7->matplotlib>=3.0->lifelines) (1.17.0)\n",
            "Downloading lifelines-0.30.0-py3-none-any.whl (349 kB)\n",
            "\u001b[2K   \u001b[90m━━━━━━━━━━━━━━━━━━━━━━━━━━━━━━━━━━━━━━━━\u001b[0m \u001b[32m349.3/349.3 kB\u001b[0m \u001b[31m22.8 MB/s\u001b[0m eta \u001b[36m0:00:00\u001b[0m\n",
            "\u001b[?25hDownloading formulaic-1.2.1-py3-none-any.whl (117 kB)\n",
            "\u001b[2K   \u001b[90m━━━━━━━━━━━━━━━━━━━━━━━━━━━━━━━━━━━━━━━━\u001b[0m \u001b[32m117.3/117.3 kB\u001b[0m \u001b[31m10.8 MB/s\u001b[0m eta \u001b[36m0:00:00\u001b[0m\n",
            "\u001b[?25hDownloading interface_meta-1.3.0-py3-none-any.whl (14 kB)\n",
            "Building wheels for collected packages: autograd-gamma\n",
            "  Building wheel for autograd-gamma (setup.py) ... \u001b[?25l\u001b[?25hdone\n",
            "  Created wheel for autograd-gamma: filename=autograd_gamma-0.5.0-py3-none-any.whl size=4030 sha256=d1933879df66762774e7982ea8cc60665e6a904e7cdb7bc47e240a65b60b0cd2\n",
            "  Stored in directory: /root/.cache/pip/wheels/50/37/21/0a719b9d89c635e89ff24bd93b862882ad675279552013b2fb\n",
            "Successfully built autograd-gamma\n",
            "Installing collected packages: interface-meta, autograd-gamma, formulaic, lifelines\n",
            "Successfully installed autograd-gamma-0.5.0 formulaic-1.2.1 interface-meta-1.3.0 lifelines-0.30.0\n"
          ]
        }
      ]
    },
    {
      "cell_type": "code",
      "execution_count": 4,
      "metadata": {
        "colab": {
          "base_uri": "https://localhost:8080/",
          "height": 73
        },
        "id": "GqXLXKuGZNnr",
        "outputId": "15612a97-ac76-471b-f29e-19b99a4ec477"
      },
      "outputs": [
        {
          "output_type": "display_data",
          "data": {
            "text/plain": [
              "<IPython.core.display.HTML object>"
            ],
            "text/html": [
              "\n",
              "     <input type=\"file\" id=\"files-d7a270bd-35d2-4af1-b4f6-2adb7e590acb\" name=\"files[]\" multiple disabled\n",
              "        style=\"border:none\" />\n",
              "     <output id=\"result-d7a270bd-35d2-4af1-b4f6-2adb7e590acb\">\n",
              "      Upload widget is only available when the cell has been executed in the\n",
              "      current browser session. Please rerun this cell to enable.\n",
              "      </output>\n",
              "      <script>// Copyright 2017 Google LLC\n",
              "//\n",
              "// Licensed under the Apache License, Version 2.0 (the \"License\");\n",
              "// you may not use this file except in compliance with the License.\n",
              "// You may obtain a copy of the License at\n",
              "//\n",
              "//      http://www.apache.org/licenses/LICENSE-2.0\n",
              "//\n",
              "// Unless required by applicable law or agreed to in writing, software\n",
              "// distributed under the License is distributed on an \"AS IS\" BASIS,\n",
              "// WITHOUT WARRANTIES OR CONDITIONS OF ANY KIND, either express or implied.\n",
              "// See the License for the specific language governing permissions and\n",
              "// limitations under the License.\n",
              "\n",
              "/**\n",
              " * @fileoverview Helpers for google.colab Python module.\n",
              " */\n",
              "(function(scope) {\n",
              "function span(text, styleAttributes = {}) {\n",
              "  const element = document.createElement('span');\n",
              "  element.textContent = text;\n",
              "  for (const key of Object.keys(styleAttributes)) {\n",
              "    element.style[key] = styleAttributes[key];\n",
              "  }\n",
              "  return element;\n",
              "}\n",
              "\n",
              "// Max number of bytes which will be uploaded at a time.\n",
              "const MAX_PAYLOAD_SIZE = 100 * 1024;\n",
              "\n",
              "function _uploadFiles(inputId, outputId) {\n",
              "  const steps = uploadFilesStep(inputId, outputId);\n",
              "  const outputElement = document.getElementById(outputId);\n",
              "  // Cache steps on the outputElement to make it available for the next call\n",
              "  // to uploadFilesContinue from Python.\n",
              "  outputElement.steps = steps;\n",
              "\n",
              "  return _uploadFilesContinue(outputId);\n",
              "}\n",
              "\n",
              "// This is roughly an async generator (not supported in the browser yet),\n",
              "// where there are multiple asynchronous steps and the Python side is going\n",
              "// to poll for completion of each step.\n",
              "// This uses a Promise to block the python side on completion of each step,\n",
              "// then passes the result of the previous step as the input to the next step.\n",
              "function _uploadFilesContinue(outputId) {\n",
              "  const outputElement = document.getElementById(outputId);\n",
              "  const steps = outputElement.steps;\n",
              "\n",
              "  const next = steps.next(outputElement.lastPromiseValue);\n",
              "  return Promise.resolve(next.value.promise).then((value) => {\n",
              "    // Cache the last promise value to make it available to the next\n",
              "    // step of the generator.\n",
              "    outputElement.lastPromiseValue = value;\n",
              "    return next.value.response;\n",
              "  });\n",
              "}\n",
              "\n",
              "/**\n",
              " * Generator function which is called between each async step of the upload\n",
              " * process.\n",
              " * @param {string} inputId Element ID of the input file picker element.\n",
              " * @param {string} outputId Element ID of the output display.\n",
              " * @return {!Iterable<!Object>} Iterable of next steps.\n",
              " */\n",
              "function* uploadFilesStep(inputId, outputId) {\n",
              "  const inputElement = document.getElementById(inputId);\n",
              "  inputElement.disabled = false;\n",
              "\n",
              "  const outputElement = document.getElementById(outputId);\n",
              "  outputElement.innerHTML = '';\n",
              "\n",
              "  const pickedPromise = new Promise((resolve) => {\n",
              "    inputElement.addEventListener('change', (e) => {\n",
              "      resolve(e.target.files);\n",
              "    });\n",
              "  });\n",
              "\n",
              "  const cancel = document.createElement('button');\n",
              "  inputElement.parentElement.appendChild(cancel);\n",
              "  cancel.textContent = 'Cancel upload';\n",
              "  const cancelPromise = new Promise((resolve) => {\n",
              "    cancel.onclick = () => {\n",
              "      resolve(null);\n",
              "    };\n",
              "  });\n",
              "\n",
              "  // Wait for the user to pick the files.\n",
              "  const files = yield {\n",
              "    promise: Promise.race([pickedPromise, cancelPromise]),\n",
              "    response: {\n",
              "      action: 'starting',\n",
              "    }\n",
              "  };\n",
              "\n",
              "  cancel.remove();\n",
              "\n",
              "  // Disable the input element since further picks are not allowed.\n",
              "  inputElement.disabled = true;\n",
              "\n",
              "  if (!files) {\n",
              "    return {\n",
              "      response: {\n",
              "        action: 'complete',\n",
              "      }\n",
              "    };\n",
              "  }\n",
              "\n",
              "  for (const file of files) {\n",
              "    const li = document.createElement('li');\n",
              "    li.append(span(file.name, {fontWeight: 'bold'}));\n",
              "    li.append(span(\n",
              "        `(${file.type || 'n/a'}) - ${file.size} bytes, ` +\n",
              "        `last modified: ${\n",
              "            file.lastModifiedDate ? file.lastModifiedDate.toLocaleDateString() :\n",
              "                                    'n/a'} - `));\n",
              "    const percent = span('0% done');\n",
              "    li.appendChild(percent);\n",
              "\n",
              "    outputElement.appendChild(li);\n",
              "\n",
              "    const fileDataPromise = new Promise((resolve) => {\n",
              "      const reader = new FileReader();\n",
              "      reader.onload = (e) => {\n",
              "        resolve(e.target.result);\n",
              "      };\n",
              "      reader.readAsArrayBuffer(file);\n",
              "    });\n",
              "    // Wait for the data to be ready.\n",
              "    let fileData = yield {\n",
              "      promise: fileDataPromise,\n",
              "      response: {\n",
              "        action: 'continue',\n",
              "      }\n",
              "    };\n",
              "\n",
              "    // Use a chunked sending to avoid message size limits. See b/62115660.\n",
              "    let position = 0;\n",
              "    do {\n",
              "      const length = Math.min(fileData.byteLength - position, MAX_PAYLOAD_SIZE);\n",
              "      const chunk = new Uint8Array(fileData, position, length);\n",
              "      position += length;\n",
              "\n",
              "      const base64 = btoa(String.fromCharCode.apply(null, chunk));\n",
              "      yield {\n",
              "        response: {\n",
              "          action: 'append',\n",
              "          file: file.name,\n",
              "          data: base64,\n",
              "        },\n",
              "      };\n",
              "\n",
              "      let percentDone = fileData.byteLength === 0 ?\n",
              "          100 :\n",
              "          Math.round((position / fileData.byteLength) * 100);\n",
              "      percent.textContent = `${percentDone}% done`;\n",
              "\n",
              "    } while (position < fileData.byteLength);\n",
              "  }\n",
              "\n",
              "  // All done.\n",
              "  yield {\n",
              "    response: {\n",
              "      action: 'complete',\n",
              "    }\n",
              "  };\n",
              "}\n",
              "\n",
              "scope.google = scope.google || {};\n",
              "scope.google.colab = scope.google.colab || {};\n",
              "scope.google.colab._files = {\n",
              "  _uploadFiles,\n",
              "  _uploadFilesContinue,\n",
              "};\n",
              "})(self);\n",
              "</script> "
            ]
          },
          "metadata": {}
        },
        {
          "output_type": "stream",
          "name": "stdout",
          "text": [
            "Saving train.csv to train.csv\n"
          ]
        }
      ],
      "source": [
        "# train.csv upload\n",
        "\n",
        "from google.colab import files\n",
        "train_uploaded = files.upload()"
      ]
    },
    {
      "cell_type": "code",
      "source": [
        "# test.csv upload\n",
        "\n",
        "test_uploaded = files.upload()"
      ],
      "metadata": {
        "colab": {
          "base_uri": "https://localhost:8080/",
          "height": 73
        },
        "id": "enqCT60LZpNQ",
        "outputId": "ba9495ea-74d7-4fa0-afd7-1d2c5408eaea"
      },
      "execution_count": 3,
      "outputs": [
        {
          "output_type": "display_data",
          "data": {
            "text/plain": [
              "<IPython.core.display.HTML object>"
            ],
            "text/html": [
              "\n",
              "     <input type=\"file\" id=\"files-dc183a11-5b6d-4fc1-b5ad-08fd9d57f759\" name=\"files[]\" multiple disabled\n",
              "        style=\"border:none\" />\n",
              "     <output id=\"result-dc183a11-5b6d-4fc1-b5ad-08fd9d57f759\">\n",
              "      Upload widget is only available when the cell has been executed in the\n",
              "      current browser session. Please rerun this cell to enable.\n",
              "      </output>\n",
              "      <script>// Copyright 2017 Google LLC\n",
              "//\n",
              "// Licensed under the Apache License, Version 2.0 (the \"License\");\n",
              "// you may not use this file except in compliance with the License.\n",
              "// You may obtain a copy of the License at\n",
              "//\n",
              "//      http://www.apache.org/licenses/LICENSE-2.0\n",
              "//\n",
              "// Unless required by applicable law or agreed to in writing, software\n",
              "// distributed under the License is distributed on an \"AS IS\" BASIS,\n",
              "// WITHOUT WARRANTIES OR CONDITIONS OF ANY KIND, either express or implied.\n",
              "// See the License for the specific language governing permissions and\n",
              "// limitations under the License.\n",
              "\n",
              "/**\n",
              " * @fileoverview Helpers for google.colab Python module.\n",
              " */\n",
              "(function(scope) {\n",
              "function span(text, styleAttributes = {}) {\n",
              "  const element = document.createElement('span');\n",
              "  element.textContent = text;\n",
              "  for (const key of Object.keys(styleAttributes)) {\n",
              "    element.style[key] = styleAttributes[key];\n",
              "  }\n",
              "  return element;\n",
              "}\n",
              "\n",
              "// Max number of bytes which will be uploaded at a time.\n",
              "const MAX_PAYLOAD_SIZE = 100 * 1024;\n",
              "\n",
              "function _uploadFiles(inputId, outputId) {\n",
              "  const steps = uploadFilesStep(inputId, outputId);\n",
              "  const outputElement = document.getElementById(outputId);\n",
              "  // Cache steps on the outputElement to make it available for the next call\n",
              "  // to uploadFilesContinue from Python.\n",
              "  outputElement.steps = steps;\n",
              "\n",
              "  return _uploadFilesContinue(outputId);\n",
              "}\n",
              "\n",
              "// This is roughly an async generator (not supported in the browser yet),\n",
              "// where there are multiple asynchronous steps and the Python side is going\n",
              "// to poll for completion of each step.\n",
              "// This uses a Promise to block the python side on completion of each step,\n",
              "// then passes the result of the previous step as the input to the next step.\n",
              "function _uploadFilesContinue(outputId) {\n",
              "  const outputElement = document.getElementById(outputId);\n",
              "  const steps = outputElement.steps;\n",
              "\n",
              "  const next = steps.next(outputElement.lastPromiseValue);\n",
              "  return Promise.resolve(next.value.promise).then((value) => {\n",
              "    // Cache the last promise value to make it available to the next\n",
              "    // step of the generator.\n",
              "    outputElement.lastPromiseValue = value;\n",
              "    return next.value.response;\n",
              "  });\n",
              "}\n",
              "\n",
              "/**\n",
              " * Generator function which is called between each async step of the upload\n",
              " * process.\n",
              " * @param {string} inputId Element ID of the input file picker element.\n",
              " * @param {string} outputId Element ID of the output display.\n",
              " * @return {!Iterable<!Object>} Iterable of next steps.\n",
              " */\n",
              "function* uploadFilesStep(inputId, outputId) {\n",
              "  const inputElement = document.getElementById(inputId);\n",
              "  inputElement.disabled = false;\n",
              "\n",
              "  const outputElement = document.getElementById(outputId);\n",
              "  outputElement.innerHTML = '';\n",
              "\n",
              "  const pickedPromise = new Promise((resolve) => {\n",
              "    inputElement.addEventListener('change', (e) => {\n",
              "      resolve(e.target.files);\n",
              "    });\n",
              "  });\n",
              "\n",
              "  const cancel = document.createElement('button');\n",
              "  inputElement.parentElement.appendChild(cancel);\n",
              "  cancel.textContent = 'Cancel upload';\n",
              "  const cancelPromise = new Promise((resolve) => {\n",
              "    cancel.onclick = () => {\n",
              "      resolve(null);\n",
              "    };\n",
              "  });\n",
              "\n",
              "  // Wait for the user to pick the files.\n",
              "  const files = yield {\n",
              "    promise: Promise.race([pickedPromise, cancelPromise]),\n",
              "    response: {\n",
              "      action: 'starting',\n",
              "    }\n",
              "  };\n",
              "\n",
              "  cancel.remove();\n",
              "\n",
              "  // Disable the input element since further picks are not allowed.\n",
              "  inputElement.disabled = true;\n",
              "\n",
              "  if (!files) {\n",
              "    return {\n",
              "      response: {\n",
              "        action: 'complete',\n",
              "      }\n",
              "    };\n",
              "  }\n",
              "\n",
              "  for (const file of files) {\n",
              "    const li = document.createElement('li');\n",
              "    li.append(span(file.name, {fontWeight: 'bold'}));\n",
              "    li.append(span(\n",
              "        `(${file.type || 'n/a'}) - ${file.size} bytes, ` +\n",
              "        `last modified: ${\n",
              "            file.lastModifiedDate ? file.lastModifiedDate.toLocaleDateString() :\n",
              "                                    'n/a'} - `));\n",
              "    const percent = span('0% done');\n",
              "    li.appendChild(percent);\n",
              "\n",
              "    outputElement.appendChild(li);\n",
              "\n",
              "    const fileDataPromise = new Promise((resolve) => {\n",
              "      const reader = new FileReader();\n",
              "      reader.onload = (e) => {\n",
              "        resolve(e.target.result);\n",
              "      };\n",
              "      reader.readAsArrayBuffer(file);\n",
              "    });\n",
              "    // Wait for the data to be ready.\n",
              "    let fileData = yield {\n",
              "      promise: fileDataPromise,\n",
              "      response: {\n",
              "        action: 'continue',\n",
              "      }\n",
              "    };\n",
              "\n",
              "    // Use a chunked sending to avoid message size limits. See b/62115660.\n",
              "    let position = 0;\n",
              "    do {\n",
              "      const length = Math.min(fileData.byteLength - position, MAX_PAYLOAD_SIZE);\n",
              "      const chunk = new Uint8Array(fileData, position, length);\n",
              "      position += length;\n",
              "\n",
              "      const base64 = btoa(String.fromCharCode.apply(null, chunk));\n",
              "      yield {\n",
              "        response: {\n",
              "          action: 'append',\n",
              "          file: file.name,\n",
              "          data: base64,\n",
              "        },\n",
              "      };\n",
              "\n",
              "      let percentDone = fileData.byteLength === 0 ?\n",
              "          100 :\n",
              "          Math.round((position / fileData.byteLength) * 100);\n",
              "      percent.textContent = `${percentDone}% done`;\n",
              "\n",
              "    } while (position < fileData.byteLength);\n",
              "  }\n",
              "\n",
              "  // All done.\n",
              "  yield {\n",
              "    response: {\n",
              "      action: 'complete',\n",
              "    }\n",
              "  };\n",
              "}\n",
              "\n",
              "scope.google = scope.google || {};\n",
              "scope.google.colab = scope.google.colab || {};\n",
              "scope.google.colab._files = {\n",
              "  _uploadFiles,\n",
              "  _uploadFilesContinue,\n",
              "};\n",
              "})(self);\n",
              "</script> "
            ]
          },
          "metadata": {}
        },
        {
          "output_type": "stream",
          "name": "stdout",
          "text": [
            "Saving test.csv to test.csv\n"
          ]
        }
      ]
    },
    {
      "cell_type": "code",
      "source": [
        "TRAIN_FILENAME = next(iter(train_uploaded))\n",
        "TEST_FILENAME = next(iter(test_uploaded))"
      ],
      "metadata": {
        "id": "vfM9gQVvaS4F"
      },
      "execution_count": 6,
      "outputs": []
    },
    {
      "cell_type": "code",
      "source": [
        "TRAIN_PATH = \"/content/\" + TRAIN_FILENAME\n",
        "TEST_PATH = \"/content/\" + TEST_FILENAME"
      ],
      "metadata": {
        "id": "E5_H-NG3bzuw"
      },
      "execution_count": 13,
      "outputs": []
    },
    {
      "cell_type": "code",
      "source": [
        "# import the necessary libraries\n",
        "\n",
        "import os\n",
        "import math\n",
        "from pathlib import Path\n",
        "import pandas as pd\n",
        "import numpy as np\n",
        "import matplotlib.pyplot as plt\n",
        "import seaborn as sns\n",
        "\n",
        "from datetime import datetime, timedelta\n",
        "from dateutil.relativedelta import relativedelta\n",
        "import matplotlib.pyplot as plt\n",
        "\n",
        "from sklearn.metrics import mean_absolute_error, mean_squared_error\n",
        "from sklearn.impute import SimpleImputer\n",
        "from sklearn.model_selection import train_test_split\n",
        "from sklearn.preprocessing import OrdinalEncoder\n",
        "from sklearn.pipeline import Pipeline\n",
        "from sklearn.compose import ColumnTransformer\n",
        "from sklearn.base import BaseEstimator, TransformerMixin\n",
        "from sklearn.utils.validation import check_is_fitted\n",
        "\n",
        "import optuna\n",
        "import shap\n",
        "import category_encoders as ce\n",
        "\n",
        "import lightgbm as lgb\n",
        "import xgboost as xgb\n",
        "from catboost import CatBoostRegressor, Pool\n",
        "\n",
        "import lifelines\n",
        "from lifelines import CoxPHFitter\n",
        "\n",
        "import warnings\n",
        "warnings.filterwarnings('ignore')"
      ],
      "metadata": {
        "id": "TqvtMWzAZ6_i"
      },
      "execution_count": 120,
      "outputs": []
    },
    {
      "cell_type": "code",
      "source": [
        "def load_data(train_path, test_path):\n",
        "    df_train = pd.read_csv(train_path)\n",
        "    df_test  = pd.read_csv(test_path)\n",
        "\n",
        "    # Standard column names\n",
        "    df_train = df_train.rename(columns={\n",
        "        'Customer ID': 'CustomerID',\n",
        "        'Transaction Date': 'TransactionDate',\n",
        "        'Product Category': 'ProductCategory',\n",
        "        'Purchase Amount': 'PurchaseAmount'\n",
        "    })\n",
        "    df_test = df_test.rename(columns={\n",
        "        'Customer ID': 'CustomerID',\n",
        "        'Transaction Date': 'TransactionDate',\n",
        "        'Product Category': 'ProductCategory',\n",
        "        'Purchase Amount': 'PurchaseAmount'\n",
        "    })\n",
        "\n",
        "    # Convert date to datetime\n",
        "    df_train['TransactionDate'] = pd.to_datetime(df_train['TransactionDate'])\n",
        "    df_test['TransactionDate']  = pd.to_datetime(df_test['TransactionDate'])\n",
        "\n",
        "    # Sort\n",
        "    df_train = df_train.sort_values(['CustomerID','TransactionDate']).reset_index(drop=True)\n",
        "    df_test  = df_test.sort_values(['CustomerID','TransactionDate']).reset_index(drop=True)\n",
        "\n",
        "    return df_train, df_test"
      ],
      "metadata": {
        "id": "btyfS7auaAKu"
      },
      "execution_count": 18,
      "outputs": []
    },
    {
      "cell_type": "code",
      "source": [
        "df_train, df_test = load_data(TRAIN_PATH, TEST_PATH)"
      ],
      "metadata": {
        "id": "kujJSPxMbEJn"
      },
      "execution_count": 19,
      "outputs": []
    },
    {
      "cell_type": "code",
      "source": [
        "print(df_train.head(3))\n",
        "print(df_train.dtypes)\n",
        "print(f\"Train rows: {len(df_train):,} | Test rows: {len(df_test):,}\")"
      ],
      "metadata": {
        "colab": {
          "base_uri": "https://localhost:8080/",
          "height": 0
        },
        "id": "5rjNjodTcnVN",
        "outputId": "35e05cb6-09da-4245-8acd-766a8e1abcab"
      },
      "execution_count": 20,
      "outputs": [
        {
          "output_type": "stream",
          "name": "stdout",
          "text": [
            "   CustomerID TransactionDate     ProductCategory  PurchaseAmount\n",
            "0         636      2021-07-25  Non Finished Goods          469.08\n",
            "1         636      2021-07-25       Personal Care         8413.86\n",
            "2         636      2021-11-28       Personal Care         8801.68\n",
            "CustomerID                  int64\n",
            "TransactionDate    datetime64[ns]\n",
            "ProductCategory            object\n",
            "PurchaseAmount            float64\n",
            "dtype: object\n",
            "Train rows: 41,984 | Test rows: 889\n"
          ]
        }
      ]
    },
    {
      "cell_type": "code",
      "source": [
        "def add_basic_customer_ordering(df):\n",
        "    df = df.sort_values(['CustomerID','TransactionDate']).copy()\n",
        "    df['TxnIdx'] = df.groupby('CustomerID').cumcount()\n",
        "    df['TxnCount'] = df.groupby('CustomerID')['CustomerID'].transform('count')\n",
        "    return df"
      ],
      "metadata": {
        "id": "HVDIC4CBc9Vf"
      },
      "execution_count": 21,
      "outputs": []
    },
    {
      "cell_type": "code",
      "source": [
        "def add_gap_features(df):\n",
        "    df['PrevDate'] = df.groupby('CustomerID')['TransactionDate'].shift(1)\n",
        "    df['NextDate'] = df.groupby('CustomerID')['TransactionDate'].shift(-1)\n",
        "    df['DaysSincePrev'] = (df['TransactionDate'] - df['PrevDate']).dt.days\n",
        "    df['DaysToNext']    = (df['NextDate'] - df['TransactionDate']).dt.days\n",
        "    for k in [1,2,3,4,5]:\n",
        "        df[f'GapLag{k}'] = df.groupby('CustomerID')['DaysSincePrev'].shift(k)\n",
        "    for w in [2,3,5,10]:\n",
        "        grp = df.groupby('CustomerID')['DaysSincePrev']\n",
        "        df[f'GapRollMean_w{w}'] = grp.transform(lambda s: s.rolling(w, min_periods=1).mean())\n",
        "        df[f'GapRollStd_w{w}']  = grp.transform(lambda s: s.rolling(w, min_periods=2).std())\n",
        "        df[f'GapRollMed_w{w}']  = grp.transform(lambda s: s.rolling(w, min_periods=1).median())\n",
        "    agg = df.groupby('CustomerID')['DaysSincePrev'].agg(['mean','median','std','min','max']).add_prefix('CustGap_')\n",
        "    df = df.merge(agg, left_on='CustomerID', right_index=True, how='left')\n",
        "    return df"
      ],
      "metadata": {
        "id": "PpVoFvgzczZm"
      },
      "execution_count": 24,
      "outputs": []
    },
    {
      "cell_type": "code",
      "source": [
        "print(df_train.head(3))"
      ],
      "metadata": {
        "colab": {
          "base_uri": "https://localhost:8080/",
          "height": 0
        },
        "id": "sU6vx6wxdcyv",
        "outputId": "69aa81ff-d2ce-4f2e-c9bd-a7710668362f"
      },
      "execution_count": 23,
      "outputs": [
        {
          "output_type": "stream",
          "name": "stdout",
          "text": [
            "   CustomerID TransactionDate     ProductCategory  PurchaseAmount\n",
            "0         636      2021-07-25  Non Finished Goods          469.08\n",
            "1         636      2021-07-25       Personal Care         8413.86\n",
            "2         636      2021-11-28       Personal Care         8801.68\n"
          ]
        }
      ]
    },
    {
      "cell_type": "code",
      "source": [
        "def add_amount_features(df):\n",
        "    for k in [1,2,3]:\n",
        "        df[f'AmtLag{k}'] = df.groupby('CustomerID')['PurchaseAmount'].shift(k)\n",
        "    for w in [2,3,5,10]:\n",
        "        grp = df.groupby('CustomerID')['PurchaseAmount']\n",
        "        df[f'AmtRollMean_w{w}'] = grp.transform(lambda s: s.rolling(w, min_periods=1).mean())\n",
        "        df[f'AmtRollStd_w{w}']  = grp.transform(lambda s: s.rolling(w, min_periods=2).std())\n",
        "        df[f'AmtRollMed_w{w}']  = grp.transform(lambda s: s.rolling(w, min_periods=1).median())\n",
        "    cust_amt = df.groupby('CustomerID')['PurchaseAmount'].agg(['mean','median','std','sum','max','min']).add_prefix('CustAmt_')\n",
        "    df = df.merge(cust_amt, left_on='CustomerID', right_index=True, how='left')\n",
        "    return df"
      ],
      "metadata": {
        "id": "PhhSOK3Zdhmd"
      },
      "execution_count": 25,
      "outputs": []
    },
    {
      "cell_type": "code",
      "source": [
        "def _entropy(counts):\n",
        "    total = counts.sum()\n",
        "    if total <= 0: return 0.0\n",
        "    p = counts / total\n",
        "    return float(-(p * np.log(p + 1e-12)).sum())"
      ],
      "metadata": {
        "id": "qMkXDzukdztt"
      },
      "execution_count": 26,
      "outputs": []
    },
    {
      "cell_type": "code",
      "source": [
        "def add_category_features(df, top_n_onehot=20):\n",
        "    cust_cat_counts = df.groupby(['CustomerID','ProductCategory']).size().rename('CustCatCount').reset_index()\n",
        "    df = df.merge(cust_cat_counts, on=['CustomerID','ProductCategory'], how='left')\n",
        "    tmp = df.groupby(['CustomerID','ProductCategory']).size().rename('cnt').reset_index()\n",
        "    div = tmp.groupby('CustomerID')['ProductCategory'].nunique().rename('CustCatUnique')\n",
        "    ent = tmp.groupby('CustomerID')['cnt'].apply(_entropy).rename('CustCatEntropy')\n",
        "    df = df.merge(div, on='CustomerID', how='left').merge(ent, on='CustomerID', how='left')\n",
        "\n",
        "    gfreq = df['ProductCategory'].value_counts(normalize=True).to_dict()\n",
        "    df['CatGlobalFreq'] = df['ProductCategory'].map(gfreq)\n",
        "    df['CustCatFreq'] = df['CustCatCount'] / df.groupby('CustomerID')['CustCatCount'].transform('sum')\n",
        "    topN = df['ProductCategory'].value_counts().head(top_n_onehot).index.tolist()\n",
        "    df['ProductCategory_OH'] = df['ProductCategory'].where(df['ProductCategory'].isin(topN), 'OTHER')\n",
        "    oh = pd.get_dummies(df['ProductCategory_OH'], prefix='Cat')\n",
        "    df = pd.concat([df, oh], axis=1)\n",
        "    return df"
      ],
      "metadata": {
        "id": "1gu4Dhpfd2ug"
      },
      "execution_count": 27,
      "outputs": []
    },
    {
      "cell_type": "code",
      "source": [
        "def add_time_features(df):\n",
        "    d = df['TransactionDate']\n",
        "    df['TXN_Year'] = d.dt.year\n",
        "    df['TXN_Month'] = d.dt.month\n",
        "    df['TXN_Day'] = d.dt.day\n",
        "    df['TXN_DayOfWeek'] = d.dt.dayofweek\n",
        "    df['TXN_IsWeekend'] = df['TXN_DayOfWeek'].isin([5,6]).astype(int)\n",
        "    df['TXN_WeekOfYear'] = d.dt.isocalendar().week.astype(int)\n",
        "    df['TXN_Quarter'] = d.dt.quarter\n",
        "    return df"
      ],
      "metadata": {
        "id": "ggWBx93Od94b"
      },
      "execution_count": 28,
      "outputs": []
    },
    {
      "cell_type": "code",
      "source": [
        "def build_features(df):\n",
        "    df = add_basic_customer_ordering(df)\n",
        "    df = add_gap_features(df)\n",
        "    df = add_amount_features(df)\n",
        "    df = add_category_features(df, top_n_onehot=20)\n",
        "    df = add_time_features(df)\n",
        "    return df"
      ],
      "metadata": {
        "id": "l1Olt8KBeCab"
      },
      "execution_count": 29,
      "outputs": []
    },
    {
      "cell_type": "code",
      "source": [
        "df_train = build_features(df_train)\n",
        "df_test  = build_features(df_test)"
      ],
      "metadata": {
        "id": "Qa4l0jOmeEWA"
      },
      "execution_count": 30,
      "outputs": []
    },
    {
      "cell_type": "code",
      "source": [
        "df_train_labeled = df_train[~df_train['DaysToNext'].isna()].copy()\n",
        "print(\"Train labeled rows:\", len(df_train_labeled))"
      ],
      "metadata": {
        "colab": {
          "base_uri": "https://localhost:8080/",
          "height": 0
        },
        "id": "d9QqQVngeIqw",
        "outputId": "32e3d059-7489-425f-9e10-7a57721e631d"
      },
      "execution_count": 31,
      "outputs": [
        {
          "output_type": "stream",
          "name": "stdout",
          "text": [
            "Train labeled rows: 41354\n"
          ]
        }
      ]
    },
    {
      "cell_type": "code",
      "source": [
        "print(df_train.head(3))"
      ],
      "metadata": {
        "colab": {
          "base_uri": "https://localhost:8080/",
          "height": 0
        },
        "id": "jKx82DuNeNx3",
        "outputId": "1966842a-b625-4b8e-b151-c5e875f4529a"
      },
      "execution_count": 32,
      "outputs": [
        {
          "output_type": "stream",
          "name": "stdout",
          "text": [
            "   CustomerID TransactionDate     ProductCategory  PurchaseAmount  TxnIdx  \\\n",
            "0         636      2021-07-25  Non Finished Goods          469.08       0   \n",
            "1         636      2021-07-25       Personal Care         8413.86       1   \n",
            "2         636      2021-11-28       Personal Care         8801.68       2   \n",
            "\n",
            "   TxnCount   PrevDate   NextDate  DaysSincePrev  DaysToNext  ...  \\\n",
            "0         4        NaT 2021-07-25            NaN         0.0  ...   \n",
            "1         4 2021-07-25 2021-11-28            0.0       126.0  ...   \n",
            "2         4 2021-07-25 2021-11-28          126.0         0.0  ...   \n",
            "\n",
            "   Cat_Shrink Film  Cat_Specialty Foods - Other  Cat_Unknown  TXN_Year  \\\n",
            "0            False                        False        False      2021   \n",
            "1            False                        False        False      2021   \n",
            "2            False                        False        False      2021   \n",
            "\n",
            "   TXN_Month  TXN_Day  TXN_DayOfWeek  TXN_IsWeekend  TXN_WeekOfYear  \\\n",
            "0          7       25              6              1              29   \n",
            "1          7       25              6              1              29   \n",
            "2         11       28              6              1              47   \n",
            "\n",
            "   TXN_Quarter  \n",
            "0            3  \n",
            "1            3  \n",
            "2            4  \n",
            "\n",
            "[3 rows x 87 columns]\n"
          ]
        }
      ]
    },
    {
      "cell_type": "code",
      "source": [
        "# Time based split and strong baselines\n",
        "\n",
        "def time_based_split(df, date_col='TransactionDate', holdout_frac=0.2):\n",
        "    cutoff = df[date_col].quantile(1 - holdout_frac)\n",
        "    return df[df[date_col] < cutoff].copy(), df[df[date_col] >= cutoff].copy(), cutoff"
      ],
      "metadata": {
        "id": "sgFNUYD5eQ25"
      },
      "execution_count": 33,
      "outputs": []
    },
    {
      "cell_type": "code",
      "source": [
        "train_part, valid_part, cutoff_date = time_based_split(df_train_labeled, 'TransactionDate', 0.2)\n",
        "print(f\"Cutoff={cutoff_date}, train={len(train_part)}, valid={len(valid_part)}\")\n"
      ],
      "metadata": {
        "colab": {
          "base_uri": "https://localhost:8080/",
          "height": 0
        },
        "id": "L99UDl1peYEk",
        "outputId": "4723e75b-8c07-4304-8d3d-626858d188e8"
      },
      "execution_count": 34,
      "outputs": [
        {
          "output_type": "stream",
          "name": "stdout",
          "text": [
            "Cutoff=2024-02-04 00:00:00, train=33016, valid=8338\n"
          ]
        }
      ]
    },
    {
      "cell_type": "code",
      "source": [
        "def evaluate(y_true, y_pred, label):\n",
        "    mae  = mean_absolute_error(y_true, y_pred)\n",
        "    rmse = math.sqrt(mean_squared_error(y_true, y_pred))\n",
        "    print(f\"{label:28s} -> MAE: {mae:.3f} | RMSE: {rmse:.3f}\")\n",
        "    return mae, rmse"
      ],
      "metadata": {
        "id": "5ckQdlzaei4J"
      },
      "execution_count": 59,
      "outputs": []
    },
    {
      "cell_type": "code",
      "source": [
        "last_gap_valid = valid_part['DaysSincePrev'].fillna(valid_part['DaysSincePrev'].median())\n",
        "cust_mean_gap_valid = valid_part.groupby('CustomerID')['DaysSincePrev'].transform('mean')\n",
        "cust_mean_gap_valid = cust_mean_gap_valid.fillna(valid_part['DaysSincePrev'].median())\n",
        "global_median = valid_part['DaysToNext'].median()\n",
        "global_median_valid = pd.Series(global_median, index=valid_part.index)\n",
        "\n",
        "_ = evaluate(valid_part['DaysToNext'], last_gap_valid,        \"Baseline: last gap\")\n",
        "_ = evaluate(valid_part['DaysToNext'], cust_mean_gap_valid,   \"Baseline: customer mean gap\")\n",
        "_ = evaluate(valid_part['DaysToNext'], global_median_valid,   \"Baseline: global median gap\")"
      ],
      "metadata": {
        "colab": {
          "base_uri": "https://localhost:8080/",
          "height": 0
        },
        "id": "0FKdypAgengx",
        "outputId": "f11af7fc-69d7-49a0-ebbe-bd6dcdeee4ad"
      },
      "execution_count": 60,
      "outputs": [
        {
          "output_type": "stream",
          "name": "stdout",
          "text": [
            "Baseline: last gap           -> MAE: 16.633 | RMSE: 43.688\n",
            "Baseline: customer mean gap  -> MAE: 11.190 | RMSE: 27.797\n",
            "Baseline: global median gap  -> MAE: 10.267 | RMSE: 24.725\n"
          ]
        }
      ]
    },
    {
      "cell_type": "code",
      "source": [
        "# Feature selection & imputation\n",
        "\n",
        "base_num = [\n",
        "    'DaysSincePrev','TxnIdx','TxnCount',\n",
        "    'GapLag1','GapLag2','GapLag3','GapLag4','GapLag5',\n",
        "    'GapRollMean_w2','GapRollStd_w2','GapRollMed_w2',\n",
        "    'GapRollMean_w3','GapRollStd_w3','GapRollMed_w3',\n",
        "    'GapRollMean_w5','GapRollStd_w5','GapRollMed_w5',\n",
        "    'GapRollMean_w10','GapRollStd_w10','GapRollMed_w10',\n",
        "    'CustGap_mean','CustGap_median','CustGap_std','CustGap_min','CustGap_max',\n",
        "    'PurchaseAmount','AmtLag1','AmtLag2','AmtLag3',\n",
        "    'AmtRollMean_w2','AmtRollStd_w2','AmtRollMed_w2',\n",
        "    'AmtRollMean_w3','AmtRollStd_w3','AmtRollMed_w3',\n",
        "    'AmtRollMean_w5','AmtRollStd_w5','AmtRollMed_w5',\n",
        "    'AmtRollMean_w10','AmtRollStd_w10','AmtRollMed_w10',\n",
        "    'CustAmt_mean','CustAmt_median','CustAmt_std','CustAmt_sum','CustAmt_max','CustAmt_min',\n",
        "    'CustCatCount','CustCatUnique','CustCatEntropy','CatGlobalFreq','CustCatFreq',\n",
        "    'TXN_Year','TXN_Month','TXN_Day','TXN_DayOfWeek','TXN_IsWeekend','TXN_WeekOfYear','TXN_Quarter'\n",
        "]\n",
        "oh_cols = [c for c in df_train.columns if c.startswith('Cat_')]\n",
        "feature_cols = base_num + oh_cols\n",
        "\n",
        "X_train = train_part[feature_cols].copy()\n",
        "y_train = train_part['DaysToNext'].astype(float).copy()\n",
        "X_valid = valid_part[feature_cols].copy()\n",
        "y_valid = valid_part['DaysToNext'].astype(float).copy()\n",
        "\n",
        "imputer = SimpleImputer(strategy='median')\n",
        "X_train_imp = pd.DataFrame(imputer.fit_transform(X_train), columns=feature_cols, index=X_train.index)\n",
        "X_valid_imp = pd.DataFrame(imputer.transform(X_valid), columns=feature_cols, index=X_valid.index)"
      ],
      "metadata": {
        "id": "wIg3iRR8ev6K"
      },
      "execution_count": 61,
      "outputs": []
    },
    {
      "cell_type": "code",
      "source": [
        "def objective(trial):\n",
        "    params = {\n",
        "        'objective': 'regression',\n",
        "        'metric': 'mae',\n",
        "        'boosting_type': trial.suggest_categorical('boosting', ['gbdt','dart']),\n",
        "        'num_leaves': trial.suggest_int('num_leaves', 31, 256),\n",
        "        'learning_rate': trial.suggest_float('learning_rate', 0.005, 0.2, log=True),\n",
        "        'feature_fraction': trial.suggest_float('feature_fraction', 0.6, 1.0),\n",
        "        'bagging_fraction': trial.suggest_float('bagging_fraction', 0.6, 1.0),\n",
        "        'bagging_freq': trial.suggest_int('bagging_freq', 0, 10),\n",
        "        'min_data_in_leaf': trial.suggest_int('min_data_in_leaf', 20, 200),\n",
        "        'lambda_l1': trial.suggest_float('lambda_l1', 0.0, 10.0),\n",
        "        'lambda_l2': trial.suggest_float('lambda_l2', 0.0, 10.0),\n",
        "        'max_depth': trial.suggest_int('max_depth', -1, 12),\n",
        "        'verbosity': -1,\n",
        "        'num_threads': 0\n",
        "    }\n",
        "\n",
        "    dtrain = lgb.Dataset(X_train_imp, label=y_train)\n",
        "    dvalid = lgb.Dataset(X_valid_imp, label=y_valid, reference=dtrain)\n",
        "\n",
        "    cbs = [\n",
        "        lgb.early_stopping(stopping_rounds=200),\n",
        "        lgb.log_evaluation(period=0)\n",
        "    ]\n",
        "\n",
        "    try:\n",
        "        model = lgb.train(\n",
        "            params,\n",
        "            dtrain,\n",
        "            valid_sets=[dtrain, dvalid],\n",
        "            valid_names=['train','valid'],\n",
        "            num_boost_round=5000,\n",
        "            callbacks=cbs\n",
        "        )\n",
        "        preds = model.predict(X_valid_imp, num_iteration=model.best_iteration)\n",
        "    except TypeError:\n",
        "        model = lgb.LGBMRegressor(\n",
        "            **{k:v for k,v in params.items() if k not in ['objective','metric','verbosity','num_threads']},\n",
        "            objective='regression'\n",
        "        )\n",
        "        model.fit(\n",
        "            X_train_imp, y_train,\n",
        "            eval_set=[(X_valid_imp, y_valid)],\n",
        "            verbose=False\n",
        "        )\n",
        "        preds = model.predict(X_valid_imp)\n",
        "\n",
        "    return mean_absolute_error(y_valid, preds)"
      ],
      "metadata": {
        "id": "qdIYfmTsgeN4"
      },
      "execution_count": 63,
      "outputs": []
    },
    {
      "cell_type": "code",
      "source": [
        "study = optuna.create_study(direction='minimize')\n",
        "study.optimize(objective, n_trials=40, show_progress_bar=True)\n",
        "\n",
        "best_params = study.best_trial.params\n",
        "best_params.update({'objective':'regression','metric':'mae','verbosity':-1,'num_threads':0})\n",
        "best_params"
      ],
      "metadata": {
        "colab": {
          "base_uri": "https://localhost:8080/",
          "height": 2690,
          "referenced_widgets": [
            "1009094852d24154a7ad75711dd5d220",
            "3c6af28f550c4d9d9ae7a6b6e92f871e",
            "38d4cea327dc497eb55869f3f3b5c42e",
            "7a5ece8ceadb4c1298b8eee8095f1902",
            "bb8b0aa0edc543ec969358d253778af4",
            "9ceb3dbdaad04fdba2f99a1ac32da4b8",
            "b30f4bc8140b4ca0872bcca0ed8f9f53",
            "d11cb8fbacda4c79b6a323f397399e27",
            "45e6857bbc0149af8f6bb5b085af4102",
            "5211d3c0cdf241608632b3fd21fde3f6",
            "458bb5c94ef94d89aed8a1543a8fa596"
          ]
        },
        "id": "dhkPLZdWiBrY",
        "outputId": "eda4a22a-f178-4646-8a8a-670fd9a71298"
      },
      "execution_count": 67,
      "outputs": [
        {
          "output_type": "stream",
          "name": "stderr",
          "text": [
            "[I 2025-10-02 06:14:17,746] A new study created in memory with name: no-name-646cbe76-e452-4312-afb0-b484fcf47a58\n"
          ]
        },
        {
          "output_type": "display_data",
          "data": {
            "text/plain": [
              "  0%|          | 0/40 [00:00<?, ?it/s]"
            ],
            "application/vnd.jupyter.widget-view+json": {
              "version_major": 2,
              "version_minor": 0,
              "model_id": "1009094852d24154a7ad75711dd5d220"
            }
          },
          "metadata": {}
        },
        {
          "output_type": "stream",
          "name": "stdout",
          "text": [
            "Training until validation scores don't improve for 200 rounds\n",
            "Early stopping, best iteration is:\n",
            "[432]\ttrain's l1: 11.189\tvalid's l1: 9.91412\n",
            "[I 2025-10-02 06:14:21,271] Trial 0 finished with value: 9.914116618531951 and parameters: {'boosting': 'gbdt', 'num_leaves': 133, 'learning_rate': 0.0195395390300936, 'feature_fraction': 0.7150459300149409, 'bagging_fraction': 0.6375762256539892, 'bagging_freq': 9, 'min_data_in_leaf': 191, 'lambda_l1': 7.4731754334204945, 'lambda_l2': 9.598660655792532, 'max_depth': 0}. Best is trial 0 with value: 9.914116618531951.\n",
            "[I 2025-10-02 06:15:45,685] Trial 1 finished with value: 9.74246508207995 and parameters: {'boosting': 'dart', 'num_leaves': 81, 'learning_rate': 0.011950736189586508, 'feature_fraction': 0.7983166927529363, 'bagging_fraction': 0.8343753207574411, 'bagging_freq': 9, 'min_data_in_leaf': 96, 'lambda_l1': 1.6332709118306865, 'lambda_l2': 7.256060956915176, 'max_depth': 6}. Best is trial 1 with value: 9.74246508207995.\n",
            "Training until validation scores don't improve for 200 rounds\n",
            "Early stopping, best iteration is:\n",
            "[231]\ttrain's l1: 11.3311\tvalid's l1: 9.76906\n",
            "[I 2025-10-02 06:15:47,553] Trial 2 finished with value: 9.769063413176474 and parameters: {'boosting': 'gbdt', 'num_leaves': 47, 'learning_rate': 0.017624079131546424, 'feature_fraction': 0.9339205783075606, 'bagging_fraction': 0.9432297054825844, 'bagging_freq': 1, 'min_data_in_leaf': 160, 'lambda_l1': 8.030964772737375, 'lambda_l2': 2.4979530205847666, 'max_depth': 0}. Best is trial 1 with value: 9.74246508207995.\n",
            "Training until validation scores don't improve for 200 rounds\n",
            "Early stopping, best iteration is:\n",
            "[161]\ttrain's l1: 10.8977\tvalid's l1: 9.71993\n",
            "[I 2025-10-02 06:15:52,521] Trial 3 finished with value: 9.719932102508647 and parameters: {'boosting': 'gbdt', 'num_leaves': 183, 'learning_rate': 0.03010181182226185, 'feature_fraction': 0.7913538910703395, 'bagging_fraction': 0.935591082299719, 'bagging_freq': 5, 'min_data_in_leaf': 169, 'lambda_l1': 5.531823102864411, 'lambda_l2': 0.3199701945876021, 'max_depth': -1}. Best is trial 3 with value: 9.719932102508647.\n",
            "[I 2025-10-02 06:20:12,645] Trial 4 finished with value: 10.102858273385147 and parameters: {'boosting': 'dart', 'num_leaves': 195, 'learning_rate': 0.0194394731617617, 'feature_fraction': 0.7532565722543109, 'bagging_fraction': 0.7840254599028478, 'bagging_freq': 5, 'min_data_in_leaf': 199, 'lambda_l1': 2.7152349234737008, 'lambda_l2': 8.427893340316947, 'max_depth': 0}. Best is trial 3 with value: 9.719932102508647.\n",
            "Training until validation scores don't improve for 200 rounds\n",
            "Early stopping, best iteration is:\n",
            "[435]\ttrain's l1: 11.3795\tvalid's l1: 9.87316\n",
            "[I 2025-10-02 06:20:13,581] Trial 5 finished with value: 9.87315750435783 and parameters: {'boosting': 'gbdt', 'num_leaves': 252, 'learning_rate': 0.033267764628262274, 'feature_fraction': 0.6586800904753252, 'bagging_fraction': 0.8542724733854292, 'bagging_freq': 0, 'min_data_in_leaf': 159, 'lambda_l1': 9.543570164048587, 'lambda_l2': 0.37423813811406137, 'max_depth': 6}. Best is trial 3 with value: 9.719932102508647.\n",
            "[I 2025-10-02 06:21:00,422] Trial 6 finished with value: 10.540698528317083 and parameters: {'boosting': 'dart', 'num_leaves': 211, 'learning_rate': 0.07651497649248458, 'feature_fraction': 0.7553278369002981, 'bagging_fraction': 0.7841865880762663, 'bagging_freq': 10, 'min_data_in_leaf': 42, 'lambda_l1': 5.668701484911431, 'lambda_l2': 3.2257255151641075, 'max_depth': 3}. Best is trial 3 with value: 9.719932102508647.\n",
            "Training until validation scores don't improve for 200 rounds\n",
            "Early stopping, best iteration is:\n",
            "[480]\ttrain's l1: 11.2144\tvalid's l1: 9.86389\n",
            "[I 2025-10-02 06:21:01,908] Trial 7 finished with value: 9.863894916251235 and parameters: {'boosting': 'gbdt', 'num_leaves': 103, 'learning_rate': 0.03186682314901031, 'feature_fraction': 0.8678181816207595, 'bagging_fraction': 0.7690103741186016, 'bagging_freq': 10, 'min_data_in_leaf': 171, 'lambda_l1': 7.90288778263877, 'lambda_l2': 0.9544599597938097, 'max_depth': 9}. Best is trial 3 with value: 9.719932102508647.\n",
            "Training until validation scores don't improve for 200 rounds\n",
            "Early stopping, best iteration is:\n",
            "[488]\ttrain's l1: 11.1808\tvalid's l1: 9.67694\n",
            "[I 2025-10-02 06:21:03,969] Trial 8 finished with value: 9.676944820023992 and parameters: {'boosting': 'gbdt', 'num_leaves': 147, 'learning_rate': 0.009488179319359667, 'feature_fraction': 0.855344224784576, 'bagging_fraction': 0.8623780814088617, 'bagging_freq': 4, 'min_data_in_leaf': 98, 'lambda_l1': 0.680112188377815, 'lambda_l2': 5.58003175677857, 'max_depth': 9}. Best is trial 8 with value: 9.676944820023992.\n",
            "Training until validation scores don't improve for 200 rounds\n",
            "Early stopping, best iteration is:\n",
            "[726]\ttrain's l1: 11.3045\tvalid's l1: 9.74807\n",
            "[I 2025-10-02 06:21:08,761] Trial 9 finished with value: 9.748069305854 and parameters: {'boosting': 'gbdt', 'num_leaves': 249, 'learning_rate': 0.0062981740131416684, 'feature_fraction': 0.9118079852374567, 'bagging_fraction': 0.985771414618134, 'bagging_freq': 6, 'min_data_in_leaf': 128, 'lambda_l1': 9.554040320890117, 'lambda_l2': 4.443110050080761, 'max_depth': 9}. Best is trial 8 with value: 9.676944820023992.\n",
            "[I 2025-10-02 06:23:34,311] Trial 10 finished with value: 12.626679640176087 and parameters: {'boosting': 'dart', 'num_leaves': 149, 'learning_rate': 0.18067458636228742, 'feature_fraction': 0.8592238291534275, 'bagging_fraction': 0.6825495944726762, 'bagging_freq': 3, 'min_data_in_leaf': 70, 'lambda_l1': 0.15270607454692076, 'lambda_l2': 6.340106367197287, 'max_depth': 11}. Best is trial 8 with value: 9.676944820023992.\n",
            "Training until validation scores don't improve for 200 rounds\n",
            "Early stopping, best iteration is:\n",
            "[1905]\ttrain's l1: 11.8971\tvalid's l1: 10.0311\n",
            "[I 2025-10-02 06:23:37,166] Trial 11 finished with value: 10.031088763922668 and parameters: {'boosting': 'gbdt', 'num_leaves': 169, 'learning_rate': 0.0051278485318266235, 'feature_fraction': 0.9972924325038771, 'bagging_fraction': 0.906248475037222, 'bagging_freq': 5, 'min_data_in_leaf': 120, 'lambda_l1': 4.189223568646776, 'lambda_l2': 5.591375507419658, 'max_depth': 3}. Best is trial 8 with value: 9.676944820023992.\n",
            "Training until validation scores don't improve for 200 rounds\n",
            "Early stopping, best iteration is:\n",
            "[116]\ttrain's l1: 10.555\tvalid's l1: 9.60229\n",
            "[I 2025-10-02 06:23:38,217] Trial 12 finished with value: 9.602287085222173 and parameters: {'boosting': 'gbdt', 'num_leaves': 191, 'learning_rate': 0.06551980915891428, 'feature_fraction': 0.8259221301813049, 'bagging_fraction': 0.8994093454795021, 'bagging_freq': 3, 'min_data_in_leaf': 89, 'lambda_l1': 4.983780319217015, 'lambda_l2': 3.9910401624845955, 'max_depth': 12}. Best is trial 12 with value: 9.602287085222173.\n",
            "Training until validation scores don't improve for 200 rounds\n",
            "Early stopping, best iteration is:\n",
            "[68]\ttrain's l1: 10.7389\tvalid's l1: 9.64844\n",
            "[I 2025-10-02 06:23:39,144] Trial 13 finished with value: 9.648443277799114 and parameters: {'boosting': 'gbdt', 'num_leaves': 115, 'learning_rate': 0.07487817678208182, 'feature_fraction': 0.8561264663140715, 'bagging_fraction': 0.8816175226722892, 'bagging_freq': 3, 'min_data_in_leaf': 85, 'lambda_l1': 3.614895955436052, 'lambda_l2': 4.184575910200091, 'max_depth': 12}. Best is trial 12 with value: 9.602287085222173.\n",
            "Training until validation scores don't improve for 200 rounds\n",
            "Early stopping, best iteration is:\n",
            "[67]\ttrain's l1: 10.5117\tvalid's l1: 9.87467\n",
            "[I 2025-10-02 06:23:40,015] Trial 14 finished with value: 9.874668800104066 and parameters: {'boosting': 'gbdt', 'num_leaves': 107, 'learning_rate': 0.08045593935925838, 'feature_fraction': 0.6204861343326455, 'bagging_fraction': 0.9904223783826643, 'bagging_freq': 2, 'min_data_in_leaf': 65, 'lambda_l1': 3.9586007616695325, 'lambda_l2': 3.2787301995150218, 'max_depth': 12}. Best is trial 12 with value: 9.602287085222173.\n",
            "Training until validation scores don't improve for 200 rounds\n",
            "Early stopping, best iteration is:\n",
            "[46]\ttrain's l1: 9.4943\tvalid's l1: 9.91388\n",
            "[I 2025-10-02 06:23:41,117] Trial 15 finished with value: 9.913875980052323 and parameters: {'boosting': 'gbdt', 'num_leaves': 220, 'learning_rate': 0.06375174414139968, 'feature_fraction': 0.9266308546739734, 'bagging_fraction': 0.8962582255677524, 'bagging_freq': 7, 'min_data_in_leaf': 22, 'lambda_l1': 2.721097122411486, 'lambda_l2': 4.274376108120045, 'max_depth': 11}. Best is trial 12 with value: 9.602287085222173.\n",
            "Training until validation scores don't improve for 200 rounds\n",
            "Early stopping, best iteration is:\n",
            "[38]\ttrain's l1: 11.2902\tvalid's l1: 10.0093\n",
            "[I 2025-10-02 06:23:41,803] Trial 16 finished with value: 10.009276733191905 and parameters: {'boosting': 'gbdt', 'num_leaves': 33, 'learning_rate': 0.15499283945480613, 'feature_fraction': 0.8333315330481422, 'bagging_fraction': 0.727835000337612, 'bagging_freq': 3, 'min_data_in_leaf': 73, 'lambda_l1': 6.561831991427615, 'lambda_l2': 1.9691295493125494, 'max_depth': 12}. Best is trial 12 with value: 9.602287085222173.\n",
            "Training until validation scores don't improve for 200 rounds\n",
            "Early stopping, best iteration is:\n",
            "[352]\ttrain's l1: 10.666\tvalid's l1: 9.79654\n",
            "[I 2025-10-02 06:23:44,796] Trial 17 finished with value: 9.796540375332468 and parameters: {'boosting': 'gbdt', 'num_leaves': 76, 'learning_rate': 0.05176154961779742, 'feature_fraction': 0.7134766874189773, 'bagging_fraction': 0.841187661950265, 'bagging_freq': 2, 'min_data_in_leaf': 89, 'lambda_l1': 4.155876341227191, 'lambda_l2': 6.960419481778744, 'max_depth': 8}. Best is trial 12 with value: 9.602287085222173.\n",
            "[I 2025-10-02 06:25:56,709] Trial 18 finished with value: 11.548089034256531 and parameters: {'boosting': 'dart', 'num_leaves': 118, 'learning_rate': 0.13454972700090026, 'feature_fraction': 0.8974745092694159, 'bagging_fraction': 0.8908316839257874, 'bagging_freq': 0, 'min_data_in_leaf': 138, 'lambda_l1': 2.8867047755880226, 'lambda_l2': 3.967704411998336, 'max_depth': 10}. Best is trial 12 with value: 9.602287085222173.\n",
            "Training until validation scores don't improve for 200 rounds\n",
            "Early stopping, best iteration is:\n",
            "[79]\ttrain's l1: 10.7423\tvalid's l1: 9.84674\n",
            "[I 2025-10-02 06:25:58,261] Trial 19 finished with value: 9.84674226410931 and parameters: {'boosting': 'gbdt', 'num_leaves': 177, 'learning_rate': 0.11109189335649798, 'feature_fraction': 0.9674215670781259, 'bagging_fraction': 0.9484563794637019, 'bagging_freq': 7, 'min_data_in_leaf': 49, 'lambda_l1': 4.692620145945228, 'lambda_l2': 2.037118262272627, 'max_depth': 7}. Best is trial 12 with value: 9.602287085222173.\n",
            "Training until validation scores don't improve for 200 rounds\n",
            "Early stopping, best iteration is:\n",
            "[429]\ttrain's l1: 11.502\tvalid's l1: 9.94293\n",
            "[I 2025-10-02 06:25:59,179] Trial 20 finished with value: 9.942929126238585 and parameters: {'boosting': 'gbdt', 'num_leaves': 226, 'learning_rate': 0.04782554750986063, 'feature_fraction': 0.821832432444962, 'bagging_fraction': 0.8170953015380209, 'bagging_freq': 3, 'min_data_in_leaf': 110, 'lambda_l1': 6.537930978037317, 'lambda_l2': 5.1614792929921, 'max_depth': 4}. Best is trial 12 with value: 9.602287085222173.\n",
            "Training until validation scores don't improve for 200 rounds\n",
            "Early stopping, best iteration is:\n",
            "[722]\ttrain's l1: 10.7409\tvalid's l1: 9.67228\n",
            "[I 2025-10-02 06:26:02,131] Trial 21 finished with value: 9.672284347596785 and parameters: {'boosting': 'gbdt', 'num_leaves': 159, 'learning_rate': 0.010617041721480156, 'feature_fraction': 0.868893771546601, 'bagging_fraction': 0.8766183443302239, 'bagging_freq': 4, 'min_data_in_leaf': 89, 'lambda_l1': 0.31308822489019406, 'lambda_l2': 5.878182155657123, 'max_depth': 10}. Best is trial 12 with value: 9.602287085222173.\n",
            "Training until validation scores don't improve for 200 rounds\n",
            "Early stopping, best iteration is:\n",
            "[40]\ttrain's l1: 10.8382\tvalid's l1: 9.70599\n",
            "[I 2025-10-02 06:26:02,969] Trial 22 finished with value: 9.705986342619905 and parameters: {'boosting': 'gbdt', 'num_leaves': 158, 'learning_rate': 0.09939190215461931, 'feature_fraction': 0.8861535515442405, 'bagging_fraction': 0.8825606258757324, 'bagging_freq': 4, 'min_data_in_leaf': 84, 'lambda_l1': 1.144398040449612, 'lambda_l2': 6.450432917985632, 'max_depth': 12}. Best is trial 12 with value: 9.602287085222173.\n",
            "Training until validation scores don't improve for 200 rounds\n",
            "Early stopping, best iteration is:\n",
            "[77]\ttrain's l1: 10.5251\tvalid's l1: 9.7444\n",
            "[I 2025-10-02 06:26:03,968] Trial 23 finished with value: 9.744400029575733 and parameters: {'boosting': 'gbdt', 'num_leaves': 129, 'learning_rate': 0.04488577547853036, 'feature_fraction': 0.8269367480443565, 'bagging_fraction': 0.9344421964434299, 'bagging_freq': 2, 'min_data_in_leaf': 48, 'lambda_l1': 2.181012247042243, 'lambda_l2': 3.4452300591909593, 'max_depth': 10}. Best is trial 12 with value: 9.602287085222173.\n",
            "Training until validation scores don't improve for 200 rounds\n",
            "Early stopping, best iteration is:\n",
            "[423]\ttrain's l1: 11.1111\tvalid's l1: 9.67648\n",
            "[I 2025-10-02 06:26:06,179] Trial 24 finished with value: 9.676483069042531 and parameters: {'boosting': 'gbdt', 'num_leaves': 196, 'learning_rate': 0.010365196281299859, 'feature_fraction': 0.7959607202304916, 'bagging_fraction': 0.8122155738281898, 'bagging_freq': 4, 'min_data_in_leaf': 106, 'lambda_l1': 3.5458277844102195, 'lambda_l2': 7.864450043646072, 'max_depth': 11}. Best is trial 12 with value: 9.602287085222173.\n",
            "Training until validation scores don't improve for 200 rounds\n",
            "Early stopping, best iteration is:\n",
            "[132]\ttrain's l1: 10.6611\tvalid's l1: 9.79426\n",
            "[I 2025-10-02 06:26:07,120] Trial 25 finished with value: 9.79425870388979 and parameters: {'boosting': 'gbdt', 'num_leaves': 84, 'learning_rate': 0.059034604707780367, 'feature_fraction': 0.9561997791327759, 'bagging_fraction': 0.912432160055554, 'bagging_freq': 1, 'min_data_in_leaf': 80, 'lambda_l1': 5.2305045404920145, 'lambda_l2': 4.702845387930404, 'max_depth': 10}. Best is trial 12 with value: 9.602287085222173.\n",
            "[I 2025-10-02 06:27:59,959] Trial 26 finished with value: 10.582407520468031 and parameters: {'boosting': 'dart', 'num_leaves': 169, 'learning_rate': 0.03834040588610488, 'feature_fraction': 0.7526603124595573, 'bagging_fraction': 0.8682439858412683, 'bagging_freq': 6, 'min_data_in_leaf': 60, 'lambda_l1': 1.6942081408991028, 'lambda_l2': 5.73055668071863, 'max_depth': 8}. Best is trial 12 with value: 9.602287085222173.\n",
            "Training until validation scores don't improve for 200 rounds\n",
            "Early stopping, best iteration is:\n",
            "[144]\ttrain's l1: 11.4157\tvalid's l1: 9.75957\n",
            "[I 2025-10-02 06:28:01,171] Trial 27 finished with value: 9.759567454874771 and parameters: {'boosting': 'gbdt', 'num_leaves': 136, 'learning_rate': 0.02522134781783062, 'feature_fraction': 0.8817494825083413, 'bagging_fraction': 0.7499068262402555, 'bagging_freq': 3, 'min_data_in_leaf': 139, 'lambda_l1': 6.428778970461902, 'lambda_l2': 2.7136631974980516, 'max_depth': 12}. Best is trial 12 with value: 9.602287085222173.\n",
            "Training until validation scores don't improve for 200 rounds\n",
            "Early stopping, best iteration is:\n",
            "[34]\ttrain's l1: 11.201\tvalid's l1: 9.72999\n",
            "[I 2025-10-02 06:28:01,940] Trial 28 finished with value: 9.729990599959297 and parameters: {'boosting': 'gbdt', 'num_leaves': 199, 'learning_rate': 0.08911567657228188, 'feature_fraction': 0.8452229280507368, 'bagging_fraction': 0.9561755486868485, 'bagging_freq': 4, 'min_data_in_leaf': 112, 'lambda_l1': 3.1519462264095925, 'lambda_l2': 4.962642854551156, 'max_depth': 11}. Best is trial 12 with value: 9.602287085222173.\n",
            "Training until validation scores don't improve for 200 rounds\n",
            "Early stopping, best iteration is:\n",
            "[190]\ttrain's l1: 10.8674\tvalid's l1: 9.76871\n",
            "[I 2025-10-02 06:28:02,976] Trial 29 finished with value: 9.76870976373425 and parameters: {'boosting': 'gbdt', 'num_leaves': 121, 'learning_rate': 0.022811600697640974, 'feature_fraction': 0.7212738553732301, 'bagging_fraction': 0.6087625291675665, 'bagging_freq': 1, 'min_data_in_leaf': 30, 'lambda_l1': 4.729136818893917, 'lambda_l2': 9.566441138063645, 'max_depth': 8}. Best is trial 12 with value: 9.602287085222173.\n",
            "Training until validation scores don't improve for 200 rounds\n",
            "Early stopping, best iteration is:\n",
            "[216]\ttrain's l1: 10.6299\tvalid's l1: 9.76527\n",
            "[I 2025-10-02 06:28:04,591] Trial 30 finished with value: 9.765267181473936 and parameters: {'boosting': 'gbdt', 'num_leaves': 233, 'learning_rate': 0.015850539140926864, 'feature_fraction': 0.7706418533368866, 'bagging_fraction': 0.9696044654090685, 'bagging_freq': 6, 'min_data_in_leaf': 57, 'lambda_l1': 7.377504883476163, 'lambda_l2': 3.9771740199728813, 'max_depth': 10}. Best is trial 12 with value: 9.602287085222173.\n",
            "Training until validation scores don't improve for 200 rounds\n",
            "Early stopping, best iteration is:\n",
            "[488]\ttrain's l1: 11.0652\tvalid's l1: 9.68386\n",
            "[I 2025-10-02 06:28:07,113] Trial 31 finished with value: 9.683860658412517 and parameters: {'boosting': 'gbdt', 'num_leaves': 194, 'learning_rate': 0.008793916860354857, 'feature_fraction': 0.8102903626330444, 'bagging_fraction': 0.8326537273282819, 'bagging_freq': 4, 'min_data_in_leaf': 102, 'lambda_l1': 3.487728322537329, 'lambda_l2': 8.724131829071506, 'max_depth': 11}. Best is trial 12 with value: 9.602287085222173.\n",
            "Training until validation scores don't improve for 200 rounds\n",
            "Early stopping, best iteration is:\n",
            "[289]\ttrain's l1: 10.9798\tvalid's l1: 9.64414\n",
            "[I 2025-10-02 06:28:10,191] Trial 32 finished with value: 9.644135031421774 and parameters: {'boosting': 'gbdt', 'num_leaves': 210, 'learning_rate': 0.013274238347694298, 'feature_fraction': 0.7854539114451063, 'bagging_fraction': 0.824160115982264, 'bagging_freq': 2, 'min_data_in_leaf': 92, 'lambda_l1': 3.6822235797980873, 'lambda_l2': 7.781070151746748, 'max_depth': 12}. Best is trial 12 with value: 9.602287085222173.\n",
            "Training until validation scores don't improve for 200 rounds\n",
            "Early stopping, best iteration is:\n",
            "[522]\ttrain's l1: 10.5264\tvalid's l1: 9.64967\n",
            "[I 2025-10-02 06:28:13,195] Trial 33 finished with value: 9.649674622407504 and parameters: {'boosting': 'gbdt', 'num_leaves': 161, 'learning_rate': 0.014699671317118572, 'feature_fraction': 0.7856822701282798, 'bagging_fraction': 0.9122069309020122, 'bagging_freq': 2, 'min_data_in_leaf': 90, 'lambda_l1': 2.2056813504283848, 'lambda_l2': 7.537492075394804, 'max_depth': 12}. Best is trial 12 with value: 9.602287085222173.\n",
            "Training until validation scores don't improve for 200 rounds\n",
            "Early stopping, best iteration is:\n",
            "[297]\ttrain's l1: 10.6383\tvalid's l1: 9.62165\n",
            "[I 2025-10-02 06:28:15,056] Trial 34 finished with value: 9.621646872803655 and parameters: {'boosting': 'gbdt', 'num_leaves': 185, 'learning_rate': 0.014958244172863157, 'feature_fraction': 0.7171924558349595, 'bagging_fraction': 0.9222418470176783, 'bagging_freq': 1, 'min_data_in_leaf': 78, 'lambda_l1': 2.099708249790783, 'lambda_l2': 9.739764255067064, 'max_depth': 12}. Best is trial 12 with value: 9.602287085222173.\n",
            "[I 2025-10-02 06:31:30,623] Trial 35 finished with value: 9.943340513182084 and parameters: {'boosting': 'dart', 'num_leaves': 210, 'learning_rate': 0.013597285819747767, 'feature_fraction': 0.6967633856773028, 'bagging_fraction': 0.9212048750981767, 'bagging_freq': 1, 'min_data_in_leaf': 77, 'lambda_l1': 2.0852663066471946, 'lambda_l2': 9.911109762747198, 'max_depth': 12}. Best is trial 12 with value: 9.602287085222173.\n",
            "Training until validation scores don't improve for 200 rounds\n",
            "Early stopping, best iteration is:\n",
            "[578]\ttrain's l1: 11.1482\tvalid's l1: 9.73273\n",
            "[I 2025-10-02 06:31:33,169] Trial 36 finished with value: 9.732725493852222 and parameters: {'boosting': 'gbdt', 'num_leaves': 184, 'learning_rate': 0.006987938022203788, 'feature_fraction': 0.6760382888053416, 'bagging_fraction': 0.8321470281121688, 'bagging_freq': 0, 'min_data_in_leaf': 124, 'lambda_l1': 6.001117395016003, 'lambda_l2': 8.85556156566995, 'max_depth': 11}. Best is trial 12 with value: 9.602287085222173.\n",
            "Training until validation scores don't improve for 200 rounds\n",
            "Early stopping, best iteration is:\n",
            "[480]\ttrain's l1: 11.4178\tvalid's l1: 9.84213\n",
            "[I 2025-10-02 06:31:34,367] Trial 37 finished with value: 9.84212711755553 and parameters: {'boosting': 'gbdt', 'num_leaves': 234, 'learning_rate': 0.0223048546292611, 'feature_fraction': 0.7367415867736382, 'bagging_fraction': 0.8542722716062916, 'bagging_freq': 2, 'min_data_in_leaf': 73, 'lambda_l1': 4.742038648841134, 'lambda_l2': 9.287535160215171, 'max_depth': 5}. Best is trial 12 with value: 9.602287085222173.\n",
            "[I 2025-10-02 06:32:08,483] Trial 38 finished with value: 9.936119591280413 and parameters: {'boosting': 'dart', 'num_leaves': 207, 'learning_rate': 0.018303958873776432, 'feature_fraction': 0.7737163670133345, 'bagging_fraction': 0.9308950860131823, 'bagging_freq': 1, 'min_data_in_leaf': 92, 'lambda_l1': 1.2797711926621687, 'lambda_l2': 8.388847251460698, 'max_depth': 2}. Best is trial 12 with value: 9.602287085222173.\n",
            "Training until validation scores don't improve for 200 rounds\n",
            "Early stopping, best iteration is:\n",
            "[90]\ttrain's l1: 11.257\tvalid's l1: 9.83464\n",
            "[I 2025-10-02 06:32:09,143] Trial 39 finished with value: 9.834641377469502 and parameters: {'boosting': 'gbdt', 'num_leaves': 89, 'learning_rate': 0.04015150315552408, 'feature_fraction': 0.6440278929283165, 'bagging_fraction': 0.7203129415266935, 'bagging_freq': 0, 'min_data_in_leaf': 100, 'lambda_l1': 3.7070333808507914, 'lambda_l2': 7.845669250919546, 'max_depth': 9}. Best is trial 12 with value: 9.602287085222173.\n"
          ]
        },
        {
          "output_type": "execute_result",
          "data": {
            "text/plain": [
              "{'boosting': 'gbdt',\n",
              " 'num_leaves': 191,\n",
              " 'learning_rate': 0.06551980915891428,\n",
              " 'feature_fraction': 0.8259221301813049,\n",
              " 'bagging_fraction': 0.8994093454795021,\n",
              " 'bagging_freq': 3,\n",
              " 'min_data_in_leaf': 89,\n",
              " 'lambda_l1': 4.983780319217015,\n",
              " 'lambda_l2': 3.9910401624845955,\n",
              " 'max_depth': 12,\n",
              " 'objective': 'regression',\n",
              " 'metric': 'mae',\n",
              " 'verbosity': -1,\n",
              " 'num_threads': 0}"
            ]
          },
          "metadata": {},
          "execution_count": 67
        }
      ]
    },
    {
      "cell_type": "code",
      "source": [
        "dtrain = lgb.Dataset(X_train_imp, label=y_train)\n",
        "dvalid = lgb.Dataset(X_valid_imp, label=y_valid, reference=dtrain)\n",
        "cbs = [lgb.early_stopping(stopping_rounds=300), lgb.log_evaluation(period=200)]\n",
        "\n",
        "try:\n",
        "    lgb_model = lgb.train(\n",
        "        params=best_params,\n",
        "        train_set=dtrain,\n",
        "        valid_sets=[dtrain, dvalid],\n",
        "        valid_names=['train', 'valid'],\n",
        "        num_boost_round=5000,\n",
        "        callbacks=cbs\n",
        "    )\n",
        "    pred_valid = lgb_model.predict(X_valid_imp, num_iteration=lgb_model.best_iteration)\n",
        "\n",
        "except Exception:\n",
        "    sk_blocklist = {\n",
        "        'objective', 'metric', 'verbosity', 'num_threads',\n",
        "        'num_boost_round', 'num_iterations', 'n_estimators'\n",
        "    }\n",
        "    sk_params = {k: v for k, v in best_params.items() if k not in sk_blocklist}\n",
        "\n",
        "    lgb_model = lgb.LGBMRegressor(\n",
        "        objective='regression',\n",
        "        n_estimators=5000,\n",
        "        n_jobs=best_params.get('num_threads', -1),\n",
        "        **sk_params\n",
        "    )\n",
        "    lgb_model.fit(\n",
        "        X_train_imp, y_train,\n",
        "        eval_set=[(X_train_imp, y_train), (X_valid_imp, y_valid)],\n",
        "        callbacks=cbs\n",
        "    )\n",
        "    pred_valid = lgb_model.predict(X_valid_imp,num_iteration=getattr(lgb_model, 'best_iteration_', None))\n",
        "\n",
        "_ = evaluate(y_valid, pred_valid, \"LightGBM (valid)\")"
      ],
      "metadata": {
        "colab": {
          "base_uri": "https://localhost:8080/",
          "height": 0
        },
        "id": "KYcPG7cnnTQv",
        "outputId": "f6810d09-ba18-43dd-9c8b-c9b466284c76"
      },
      "execution_count": 75,
      "outputs": [
        {
          "output_type": "stream",
          "name": "stdout",
          "text": [
            "Training until validation scores don't improve for 300 rounds\n",
            "[200]\ttrain's l1: 10.2141\tvalid's l1: 9.81861\n",
            "[400]\ttrain's l1: 9.5796\tvalid's l1: 10.0744\n",
            "Early stopping, best iteration is:\n",
            "[116]\ttrain's l1: 10.555\tvalid's l1: 9.60229\n",
            "LightGBM (valid)             -> MAE: 9.602 | RMSE: 19.878\n"
          ]
        }
      ]
    },
    {
      "cell_type": "code",
      "source": [
        "missing_in_test = [c for c in feature_cols if c not in df_test.columns]\n",
        "for c in missing_in_test:\n",
        "    df_test[c] = 0\n",
        "\n",
        "extra_cats_in_test = [c for c in df_test.columns if c.startswith('Cat_') and c not in feature_cols]\n",
        "if extra_cats_in_test:\n",
        "    df_test = df_test.drop(columns=extra_cats_in_test)\n",
        "\n",
        "for c in feature_cols:\n",
        "    if c in df_test.columns and df_test[c].dtype == 'bool':\n",
        "        df_test[c] = df_test[c].astype(int)\n",
        "\n",
        "X_all  = df_train_labeled[feature_cols].copy()\n",
        "y_all  = df_train_labeled['DaysToNext'].astype(float).copy()\n",
        "X_test = df_test[feature_cols].copy()\n",
        "\n",
        "imputer_final = SimpleImputer(strategy='median')\n",
        "X_all_imp  = pd.DataFrame(imputer_final.fit_transform(X_all),  columns=feature_cols, index=X_all.index)\n",
        "X_test_imp = pd.DataFrame(imputer_final.transform(X_test),    columns=feature_cols, index=X_test.index)\n",
        "best_iter = (\n",
        "    getattr(lgb_model, 'best_iteration',  None) or\n",
        "    getattr(lgb_model, 'best_iteration_', None) or\n",
        "    best_params.get('num_boost_round') or\n",
        "    best_params.get('num_iterations') or\n",
        "    best_params.get('n_estimators') or\n",
        "    2000\n",
        ")\n",
        "best_iter = int(best_iter)\n",
        "try:\n",
        "    native_blocklist = {'verbosity', 'num_threads'}\n",
        "    native_params = {k: v for k, v in best_params.items() if k not in native_blocklist}\n",
        "\n",
        "    lgb_model_full = lgb.train(\n",
        "        params=native_params,\n",
        "        train_set=lgb.Dataset(X_all_imp, label=y_all),\n",
        "        num_boost_round=best_iter,\n",
        "        callbacks=[lgb.log_evaluation(period=0)]\n",
        "    )\n",
        "    test_pred_days = lgb_model_full.predict(X_test_imp, num_iteration=best_iter)\n",
        "\n",
        "except Exception:\n",
        "    sk_blocklist = {\n",
        "        'objective','metric','verbosity','num_threads',\n",
        "        'num_boost_round','num_iterations','n_estimators'\n",
        "    }\n",
        "    sk_params = {k: v for k, v in best_params.items() if k not in sk_blocklist}\n",
        "\n",
        "    lgb_model_full = lgb.LGBMRegressor(\n",
        "        objective='regression',\n",
        "        n_estimators=best_iter,\n",
        "        n_jobs=best_params.get('num_threads', -1),\n",
        "        **sk_params\n",
        "    )\n",
        "    lgb_model_full.fit(X_all_imp, y_all)\n",
        "    test_pred_days = lgb_model_full.predict(X_test_imp)\n",
        "df_submit = df_test[['CustomerID','TransactionDate']].copy()\n",
        "df_submit['PredictedDaysToNext'] = np.maximum(test_pred_days, 0)\n",
        "df_submit['PredictedDaysToNextRounded'] = np.rint(df_submit['PredictedDaysToNext']).astype(int)\n",
        "\n",
        "SUBMIT_PATH = \"/content/predictions_lightgbm.csv\"\n",
        "df_submit.to_csv(SUBMIT_PATH, index=False)\n",
        "print(df_submit.head())\n",
        "print(f\"Saved: {SUBMIT_PATH}\")"
      ],
      "metadata": {
        "colab": {
          "base_uri": "https://localhost:8080/",
          "height": 0
        },
        "id": "i4yuGCbiqsX3",
        "outputId": "ee912fb1-1c8a-4b5c-f0a7-663fb3388468"
      },
      "execution_count": 82,
      "outputs": [
        {
          "output_type": "stream",
          "name": "stdout",
          "text": [
            "   CustomerID TransactionDate  PredictedDaysToNext  PredictedDaysToNextRounded\n",
            "0         636      2022-11-27             0.000000                           0\n",
            "1         636      2022-11-27            29.055832                          29\n",
            "2         637      2022-03-27             0.000000                           0\n",
            "3         637      2022-03-27            28.077458                          28\n",
            "4         642      2022-05-29             6.206511                           6\n",
            "Saved: /content/predictions_lightgbm.csv\n"
          ]
        }
      ]
    },
    {
      "cell_type": "code",
      "source": [
        "print(df_train.head(3))"
      ],
      "metadata": {
        "colab": {
          "base_uri": "https://localhost:8080/",
          "height": 0
        },
        "id": "Sz0NT60o0Haz",
        "outputId": "2ae4c374-08dd-470d-9f75-2dfb46a7a333"
      },
      "execution_count": 118,
      "outputs": [
        {
          "output_type": "stream",
          "name": "stdout",
          "text": [
            "   CustomerID TransactionDate     ProductCategory  PurchaseAmount  TxnIdx  \\\n",
            "0         636      2021-07-25  Non Finished Goods          469.08       0   \n",
            "1         636      2021-07-25       Personal Care         8413.86       1   \n",
            "2         636      2021-11-28       Personal Care         8801.68       2   \n",
            "\n",
            "   TxnCount   PrevDate   NextDate  DaysSincePrev  DaysToNext  ...  \\\n",
            "0         4        NaT 2021-07-25            NaN         0.0  ...   \n",
            "1         4 2021-07-25 2021-11-28            0.0       126.0  ...   \n",
            "2         4 2021-07-25 2021-11-28          126.0         0.0  ...   \n",
            "\n",
            "   Cat_Shrink Film  Cat_Specialty Foods - Other  Cat_Unknown  TXN_Year  \\\n",
            "0            False                        False        False      2021   \n",
            "1            False                        False        False      2021   \n",
            "2            False                        False        False      2021   \n",
            "\n",
            "   TXN_Month  TXN_Day  TXN_DayOfWeek  TXN_IsWeekend  TXN_WeekOfYear  \\\n",
            "0          7       25              6              1              29   \n",
            "1          7       25              6              1              29   \n",
            "2         11       28              6              1              47   \n",
            "\n",
            "   TXN_Quarter  \n",
            "0            3  \n",
            "1            3  \n",
            "2            4  \n",
            "\n",
            "[3 rows x 87 columns]\n"
          ]
        }
      ]
    },
    {
      "cell_type": "code",
      "source": [
        "print(df_test.head(3))"
      ],
      "metadata": {
        "colab": {
          "base_uri": "https://localhost:8080/",
          "height": 0
        },
        "id": "gidC68QQ1lcT",
        "outputId": "5a8fc82c-e32e-47c4-c3f4-ca0a2771f740"
      },
      "execution_count": 119,
      "outputs": [
        {
          "output_type": "stream",
          "name": "stdout",
          "text": [
            "   CustomerID TransactionDate          ProductCategory  PurchaseAmount  \\\n",
            "0         636      2022-11-27            Personal Care         4474.80   \n",
            "1         636      2022-11-27                  Unknown          210.98   \n",
            "2         637      2022-03-27  Specialty Foods - Other         5055.35   \n",
            "\n",
            "   TxnIdx  TxnCount   PrevDate   NextDate  DaysSincePrev  DaysToNext  ...  \\\n",
            "0       0         2        NaT 2022-11-27            NaN         0.0  ...   \n",
            "1       1         2 2022-11-27        NaT            0.0         NaN  ...   \n",
            "2       0         2        NaT 2022-03-27            NaN         0.0  ...   \n",
            "\n",
            "   TXN_Year  TXN_Month  TXN_Day  TXN_DayOfWeek  TXN_IsWeekend  TXN_WeekOfYear  \\\n",
            "0      2022         11       27              6              1              47   \n",
            "1      2022         11       27              6              1              47   \n",
            "2      2022          3       27              6              1              12   \n",
            "\n",
            "   TXN_Quarter  Cat_Hygiene Films & Flex Packaging  Cat_Purchased  \\\n",
            "0            4                                   0              0   \n",
            "1            4                                   0              0   \n",
            "2            1                                   0              0   \n",
            "\n",
            "   Cat_Shrink Film  \n",
            "0                0  \n",
            "1                0  \n",
            "2                0  \n",
            "\n",
            "[3 rows x 87 columns]\n"
          ]
        }
      ]
    },
    {
      "cell_type": "code",
      "source": [
        "try:\n",
        "    df_train = pd.read_csv('/content/train.csv', parse_dates=['Transaction Date'])\n",
        "    df_test = pd.read_csv('/content/test.csv', parse_dates=['Transaction Date'])\n",
        "    df_predictions = pd.read_csv('/content/predictions_lightgbm.csv')\n",
        "\n",
        "    for df in [df_train, df_test, df_predictions]:\n",
        "        if 'Customer ID' in df.columns:\n",
        "            df.rename(columns={'Customer ID': 'Customer'}, inplace=True)\n",
        "        if 'TransactionDate' in df.columns and 'Transaction Date' not in df.columns:\n",
        "            df.rename(columns={'TransactionDate': 'Transaction Date'}, inplace=True)\n",
        "    for df in [df_predictions]:\n",
        "        if 'CustomerID' in df.columns:\n",
        "            df.rename(columns={'CustomerID': 'Customer'}, inplace=True)\n",
        "        if 'TransactionDate' in df.columns and 'Transaction Date' not in df.columns:\n",
        "            df.rename(columns={'TransactionDate': 'Transaction Date'}, inplace=True)\n",
        "\n",
        "except FileNotFoundError as e:\n",
        "    print(f\"Error: Could not find files: {e.filename}\")\n",
        "\n",
        "df_train_filtered = df_train[df_train['Product Category'] != 'Unknown'].copy()\n",
        "df_test_filtered = df_test[df_test['Product Category'] != 'Unknown'].copy()\n",
        "\n",
        "print(f\"Predictions size before filtering: {len(df_predictions)}\")\n",
        "df_predictions_filtered = df_predictions[df_predictions['PredictedDaysToNextRounded'] != 0].copy()\n",
        "print(f\"Predictions size after filtering: {len(df_predictions_filtered)}\")\n",
        "\n",
        "\n",
        "df_LTT = df_train_filtered.groupby('Customer')['Transaction Date'].max().reset_index()\n",
        "df_LTT.rename(columns={'Transaction Date': 'LastTransactionDate_Train'}, inplace=True)\n",
        "df_NTT = df_test_filtered.groupby('Customer')['Transaction Date'].min().reset_index()\n",
        "df_NTT.rename(columns={'Transaction Date': 'NextTransactionDate_Test'}, inplace=True)\n",
        "df_actual_dates = pd.merge(df_LTT, df_NTT, on='Customer', how='inner')\n",
        "\n",
        "df_actual_dates['ActualDaysToNext'] = (df_actual_dates['NextTransactionDate_Test'] - df_actual_dates['LastTransactionDate_Train']).dt.days\n",
        "df_results = pd.merge(\n",
        "    df_predictions_filtered,\n",
        "    df_actual_dates[['Customer', 'ActualDaysToNext']],\n",
        "    on='Customer',\n",
        "    how='inner'\n",
        ")\n",
        "\n",
        "df_results['ActualPredictedDaysToNext'] = df_results['ActualDaysToNext'].round().astype(int)\n",
        "\n",
        "df_results['PredictionError'] = df_results['PredictedDaysToNextRounded'] - df_results['ActualPredictedDaysToNext']\n",
        "df_results['AbsoluteError'] = df_results['PredictionError'].abs()\n",
        "\n",
        "print(\"\\n--- Final Merged Results (Actual vs. Predicted) ---\")\n",
        "print(df_results[['Customer', 'PredictedDaysToNextRounded', 'ActualPredictedDaysToNext', 'AbsoluteError']].head())\n",
        "print(f\"\\nSuccessfully evaluated {len(df_results)} customer predictions.\")\n",
        "\n",
        "sns.set_theme(style=\"whitegrid\")\n",
        "fig, axes = plt.subplots(1, 2, figsize=(14, 6))\n",
        "fig.suptitle('Comparison of Predicted vs. Actual Days to Next Transaction', fontsize=16, weight='bold')\n",
        "sns.scatterplot(\n",
        "    x='ActualPredictedDaysToNext',\n",
        "    y='PredictedDaysToNextRounded',\n",
        "    data=df_results,\n",
        "    ax=axes[0],\n",
        "    s=100,\n",
        "    color='#1f77b4',\n",
        "    alpha=0.6\n",
        ")\n",
        "max_val = df_results[['ActualPredictedDaysToNext', 'PredictedDaysToNextRounded']].max().max()\n",
        "axes[0].plot([0, max_val], [0, max_val], 'r--', label='Perfect Prediction (y=x)', alpha=0.7)\n",
        "axes[0].set_title('Scatter Plot: Predicted vs. Actual Days', fontsize=14)\n",
        "axes[0].set_xlabel('Actual Days to Next Transaction (Days)', fontsize=12)\n",
        "axes[0].set_ylabel('Predicted Days to Next Transaction (Days)', fontsize=12)\n",
        "axes[0].legend()\n",
        "axes[0].grid(True, linestyle='--', alpha=0.6)\n",
        "axes[0].set_xlim(0, max_val * 1.05)\n",
        "axes[0].set_ylim(0, max_val * 1.05)\n",
        "sns.histplot(\n",
        "    df_results['PredictionError'],\n",
        "    bins=30,\n",
        "    kde=True,\n",
        "    ax=axes[1],\n",
        "    color='#2ca02c'\n",
        ")\n",
        "axes[1].axvline(0, color='red', linestyle='--', linewidth=1, label='Zero Error')\n",
        "axes[1].set_title('Distribution of Prediction Errors (Predicted - Actual)', fontsize=14)\n",
        "axes[1].set_xlabel('Prediction Error (Days)', fontsize=12)\n",
        "axes[1].set_ylabel('Count of Customers', fontsize=12)\n",
        "axes[1].legend()\n",
        "axes[1].grid(axis='y', linestyle='--', alpha=0.6)\n",
        "\n",
        "plt.tight_layout(rect=[0, 0.03, 1, 0.95])\n",
        "plt.show()\n",
        "MAE = df_results['AbsoluteError'].mean()\n",
        "print(f\"\\nModel Performance Summary\")\n",
        "print(f\"Mean Absolute Error (MAE): {MAE:.2f} days\")\n"
      ],
      "metadata": {
        "colab": {
          "base_uri": "https://localhost:8080/",
          "height": 760
        },
        "id": "E0q7yY146Gzb",
        "outputId": "d92dbd58-64e8-4fc4-8d0d-0dfef0224f0e"
      },
      "execution_count": 165,
      "outputs": [
        {
          "output_type": "stream",
          "name": "stdout",
          "text": [
            "Predictions size before filtering: 889\n",
            "Predictions size after filtering: 680\n",
            "\n",
            "--- Final Merged Results (Actual vs. Predicted) ---\n",
            "   Customer  PredictedDaysToNextRounded  ActualPredictedDaysToNext  \\\n",
            "0       636                          29                        364   \n",
            "1       637                          28                         91   \n",
            "2       642                           6                          7   \n",
            "3       653                           7                         35   \n",
            "4       661                           6                         14   \n",
            "\n",
            "   AbsoluteError  \n",
            "0            335  \n",
            "1             63  \n",
            "2              1  \n",
            "3             28  \n",
            "4              8  \n",
            "\n",
            "Successfully evaluated 655 customer predictions.\n"
          ]
        },
        {
          "output_type": "display_data",
          "data": {
            "text/plain": [
              "<Figure size 1400x600 with 2 Axes>"
            ],
            "image/png": "[encoded data removed]"
          },
          "metadata": {}
        },
        {
          "output_type": "stream",
          "name": "stdout",
          "text": [
            "\n",
            "Model Performance Summary\n",
            "Mean Absolute Error (MAE): 106.05 days\n"
          ]
        }
      ]
    }
  ]
}